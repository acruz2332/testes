{
  "cells": [
    {
      "cell_type": "markdown",
      "source": [
        "# Prepare our data"
      ],
      "metadata": {
        "id": "Vx2p1DTw_C3a"
      }
    },
    {
      "cell_type": "markdown",
      "source": [
        "**import library dan download resource nltk**\n"
      ],
      "metadata": {
        "id": "poqjB129_WXi"
      }
    },
    {
      "cell_type": "code",
      "source": [
        "import pandas as pd\n",
        "import seaborn as sns\n",
        "import nltk\n",
        "import re\n",
        "from nltk.corpus import stopwords\n",
        "nltk.download('stopwords')\n",
        "nltk.download('wordnet')\n",
        "nltk.download('punkt')\n",
        "nltk.download('averaged_perceptron_tagger')\n",
        "nltk.download('omw-1.4') "
      ],
      "metadata": {
        "colab": {
          "base_uri": "https://localhost:8080/"
        },
        "id": "QlsF_a_KF9Ej",
        "outputId": "65030eda-b778-4d1f-c017-8ff274581909"
      },
      "execution_count": null,
      "outputs": [
        {
          "output_type": "stream",
          "name": "stderr",
          "text": [
            "[nltk_data] Downloading package stopwords to /root/nltk_data...\n",
            "[nltk_data]   Unzipping corpora/stopwords.zip.\n",
            "[nltk_data] Downloading package wordnet to /root/nltk_data...\n",
            "[nltk_data] Downloading package punkt to /root/nltk_data...\n",
            "[nltk_data]   Unzipping tokenizers/punkt.zip.\n",
            "[nltk_data] Downloading package averaged_perceptron_tagger to\n",
            "[nltk_data]     /root/nltk_data...\n",
            "[nltk_data]   Unzipping taggers/averaged_perceptron_tagger.zip.\n",
            "[nltk_data] Downloading package omw-1.4 to /root/nltk_data...\n"
          ]
        },
        {
          "output_type": "execute_result",
          "data": {
            "text/plain": [
              "True"
            ]
          },
          "metadata": {},
          "execution_count": 1
        }
      ]
    },
    {
      "cell_type": "code",
      "source": [
        "df = pd.read_csv('https://raw.githubusercontent.com/acruz2332/datasets/main/depression_dataset_reddit_cleaned.csv')\n",
        "df"
      ],
      "metadata": {
        "colab": {
          "base_uri": "https://localhost:8080/",
          "height": 424
        },
        "id": "r_lICgYMGKQW",
        "outputId": "df78059d-ff40-4606-e817-5741caef73e1"
      },
      "execution_count": null,
      "outputs": [
        {
          "output_type": "execute_result",
          "data": {
            "text/plain": [
              "                                             clean_text  is_depression\n",
              "0     we understand that most people who reply immed...              1\n",
              "1     welcome to r depression s check in post a plac...              1\n",
              "2     anyone else instead of sleeping more when depr...              1\n",
              "3     i ve kind of stuffed around a lot in my life d...              1\n",
              "4     sleep is my greatest and most comforting escap...              1\n",
              "...                                                 ...            ...\n",
              "7726                                       is that snow              0\n",
              "7727                 moulin rouge mad me cry once again              0\n",
              "7728  trying to shout but can t find people on the list              0\n",
              "7729  ughh can t find my red sox hat got ta wear thi...              0\n",
              "7730  slept wonderfully finally tried swatching for ...              0\n",
              "\n",
              "[7731 rows x 2 columns]"
            ],
            "text/html": [
              "\n",
              "  <div id=\"df-fa0975c5-8d0b-46cc-9a2b-366bf66d3ac7\">\n",
              "    <div class=\"colab-df-container\">\n",
              "      <div>\n",
              "<style scoped>\n",
              "    .dataframe tbody tr th:only-of-type {\n",
              "        vertical-align: middle;\n",
              "    }\n",
              "\n",
              "    .dataframe tbody tr th {\n",
              "        vertical-align: top;\n",
              "    }\n",
              "\n",
              "    .dataframe thead th {\n",
              "        text-align: right;\n",
              "    }\n",
              "</style>\n",
              "<table border=\"1\" class=\"dataframe\">\n",
              "  <thead>\n",
              "    <tr style=\"text-align: right;\">\n",
              "      <th></th>\n",
              "      <th>clean_text</th>\n",
              "      <th>is_depression</th>\n",
              "    </tr>\n",
              "  </thead>\n",
              "  <tbody>\n",
              "    <tr>\n",
              "      <th>0</th>\n",
              "      <td>we understand that most people who reply immed...</td>\n",
              "      <td>1</td>\n",
              "    </tr>\n",
              "    <tr>\n",
              "      <th>1</th>\n",
              "      <td>welcome to r depression s check in post a plac...</td>\n",
              "      <td>1</td>\n",
              "    </tr>\n",
              "    <tr>\n",
              "      <th>2</th>\n",
              "      <td>anyone else instead of sleeping more when depr...</td>\n",
              "      <td>1</td>\n",
              "    </tr>\n",
              "    <tr>\n",
              "      <th>3</th>\n",
              "      <td>i ve kind of stuffed around a lot in my life d...</td>\n",
              "      <td>1</td>\n",
              "    </tr>\n",
              "    <tr>\n",
              "      <th>4</th>\n",
              "      <td>sleep is my greatest and most comforting escap...</td>\n",
              "      <td>1</td>\n",
              "    </tr>\n",
              "    <tr>\n",
              "      <th>...</th>\n",
              "      <td>...</td>\n",
              "      <td>...</td>\n",
              "    </tr>\n",
              "    <tr>\n",
              "      <th>7726</th>\n",
              "      <td>is that snow</td>\n",
              "      <td>0</td>\n",
              "    </tr>\n",
              "    <tr>\n",
              "      <th>7727</th>\n",
              "      <td>moulin rouge mad me cry once again</td>\n",
              "      <td>0</td>\n",
              "    </tr>\n",
              "    <tr>\n",
              "      <th>7728</th>\n",
              "      <td>trying to shout but can t find people on the list</td>\n",
              "      <td>0</td>\n",
              "    </tr>\n",
              "    <tr>\n",
              "      <th>7729</th>\n",
              "      <td>ughh can t find my red sox hat got ta wear thi...</td>\n",
              "      <td>0</td>\n",
              "    </tr>\n",
              "    <tr>\n",
              "      <th>7730</th>\n",
              "      <td>slept wonderfully finally tried swatching for ...</td>\n",
              "      <td>0</td>\n",
              "    </tr>\n",
              "  </tbody>\n",
              "</table>\n",
              "<p>7731 rows × 2 columns</p>\n",
              "</div>\n",
              "      <button class=\"colab-df-convert\" onclick=\"convertToInteractive('df-fa0975c5-8d0b-46cc-9a2b-366bf66d3ac7')\"\n",
              "              title=\"Convert this dataframe to an interactive table.\"\n",
              "              style=\"display:none;\">\n",
              "        \n",
              "  <svg xmlns=\"http://www.w3.org/2000/svg\" height=\"24px\"viewBox=\"0 0 24 24\"\n",
              "       width=\"24px\">\n",
              "    <path d=\"M0 0h24v24H0V0z\" fill=\"none\"/>\n",
              "    <path d=\"M18.56 5.44l.94 2.06.94-2.06 2.06-.94-2.06-.94-.94-2.06-.94 2.06-2.06.94zm-11 1L8.5 8.5l.94-2.06 2.06-.94-2.06-.94L8.5 2.5l-.94 2.06-2.06.94zm10 10l.94 2.06.94-2.06 2.06-.94-2.06-.94-.94-2.06-.94 2.06-2.06.94z\"/><path d=\"M17.41 7.96l-1.37-1.37c-.4-.4-.92-.59-1.43-.59-.52 0-1.04.2-1.43.59L10.3 9.45l-7.72 7.72c-.78.78-.78 2.05 0 2.83L4 21.41c.39.39.9.59 1.41.59.51 0 1.02-.2 1.41-.59l7.78-7.78 2.81-2.81c.8-.78.8-2.07 0-2.86zM5.41 20L4 18.59l7.72-7.72 1.47 1.35L5.41 20z\"/>\n",
              "  </svg>\n",
              "      </button>\n",
              "      \n",
              "  <style>\n",
              "    .colab-df-container {\n",
              "      display:flex;\n",
              "      flex-wrap:wrap;\n",
              "      gap: 12px;\n",
              "    }\n",
              "\n",
              "    .colab-df-convert {\n",
              "      background-color: #E8F0FE;\n",
              "      border: none;\n",
              "      border-radius: 50%;\n",
              "      cursor: pointer;\n",
              "      display: none;\n",
              "      fill: #1967D2;\n",
              "      height: 32px;\n",
              "      padding: 0 0 0 0;\n",
              "      width: 32px;\n",
              "    }\n",
              "\n",
              "    .colab-df-convert:hover {\n",
              "      background-color: #E2EBFA;\n",
              "      box-shadow: 0px 1px 2px rgba(60, 64, 67, 0.3), 0px 1px 3px 1px rgba(60, 64, 67, 0.15);\n",
              "      fill: #174EA6;\n",
              "    }\n",
              "\n",
              "    [theme=dark] .colab-df-convert {\n",
              "      background-color: #3B4455;\n",
              "      fill: #D2E3FC;\n",
              "    }\n",
              "\n",
              "    [theme=dark] .colab-df-convert:hover {\n",
              "      background-color: #434B5C;\n",
              "      box-shadow: 0px 1px 3px 1px rgba(0, 0, 0, 0.15);\n",
              "      filter: drop-shadow(0px 1px 2px rgba(0, 0, 0, 0.3));\n",
              "      fill: #FFFFFF;\n",
              "    }\n",
              "  </style>\n",
              "\n",
              "      <script>\n",
              "        const buttonEl =\n",
              "          document.querySelector('#df-fa0975c5-8d0b-46cc-9a2b-366bf66d3ac7 button.colab-df-convert');\n",
              "        buttonEl.style.display =\n",
              "          google.colab.kernel.accessAllowed ? 'block' : 'none';\n",
              "\n",
              "        async function convertToInteractive(key) {\n",
              "          const element = document.querySelector('#df-fa0975c5-8d0b-46cc-9a2b-366bf66d3ac7');\n",
              "          const dataTable =\n",
              "            await google.colab.kernel.invokeFunction('convertToInteractive',\n",
              "                                                     [key], {});\n",
              "          if (!dataTable) return;\n",
              "\n",
              "          const docLinkHtml = 'Like what you see? Visit the ' +\n",
              "            '<a target=\"_blank\" href=https://colab.research.google.com/notebooks/data_table.ipynb>data table notebook</a>'\n",
              "            + ' to learn more about interactive tables.';\n",
              "          element.innerHTML = '';\n",
              "          dataTable['output_type'] = 'display_data';\n",
              "          await google.colab.output.renderOutput(dataTable, element);\n",
              "          const docLink = document.createElement('div');\n",
              "          docLink.innerHTML = docLinkHtml;\n",
              "          element.appendChild(docLink);\n",
              "        }\n",
              "      </script>\n",
              "    </div>\n",
              "  </div>\n",
              "  "
            ]
          },
          "metadata": {},
          "execution_count": 2
        }
      ]
    },
    {
      "cell_type": "code",
      "source": [
        "df.tail()"
      ],
      "metadata": {
        "colab": {
          "base_uri": "https://localhost:8080/",
          "height": 206
        },
        "id": "LQtxnraX9Duc",
        "outputId": "8e31983a-5136-4c9a-883f-41b0bdde6faf"
      },
      "execution_count": null,
      "outputs": [
        {
          "output_type": "execute_result",
          "data": {
            "text/plain": [
              "                                             clean_text  is_depression\n",
              "7726                                       is that snow              0\n",
              "7727                 moulin rouge mad me cry once again              0\n",
              "7728  trying to shout but can t find people on the list              0\n",
              "7729  ughh can t find my red sox hat got ta wear thi...              0\n",
              "7730  slept wonderfully finally tried swatching for ...              0"
            ],
            "text/html": [
              "\n",
              "  <div id=\"df-68aaee64-c29f-4159-969e-0150d60da539\">\n",
              "    <div class=\"colab-df-container\">\n",
              "      <div>\n",
              "<style scoped>\n",
              "    .dataframe tbody tr th:only-of-type {\n",
              "        vertical-align: middle;\n",
              "    }\n",
              "\n",
              "    .dataframe tbody tr th {\n",
              "        vertical-align: top;\n",
              "    }\n",
              "\n",
              "    .dataframe thead th {\n",
              "        text-align: right;\n",
              "    }\n",
              "</style>\n",
              "<table border=\"1\" class=\"dataframe\">\n",
              "  <thead>\n",
              "    <tr style=\"text-align: right;\">\n",
              "      <th></th>\n",
              "      <th>clean_text</th>\n",
              "      <th>is_depression</th>\n",
              "    </tr>\n",
              "  </thead>\n",
              "  <tbody>\n",
              "    <tr>\n",
              "      <th>7726</th>\n",
              "      <td>is that snow</td>\n",
              "      <td>0</td>\n",
              "    </tr>\n",
              "    <tr>\n",
              "      <th>7727</th>\n",
              "      <td>moulin rouge mad me cry once again</td>\n",
              "      <td>0</td>\n",
              "    </tr>\n",
              "    <tr>\n",
              "      <th>7728</th>\n",
              "      <td>trying to shout but can t find people on the list</td>\n",
              "      <td>0</td>\n",
              "    </tr>\n",
              "    <tr>\n",
              "      <th>7729</th>\n",
              "      <td>ughh can t find my red sox hat got ta wear thi...</td>\n",
              "      <td>0</td>\n",
              "    </tr>\n",
              "    <tr>\n",
              "      <th>7730</th>\n",
              "      <td>slept wonderfully finally tried swatching for ...</td>\n",
              "      <td>0</td>\n",
              "    </tr>\n",
              "  </tbody>\n",
              "</table>\n",
              "</div>\n",
              "      <button class=\"colab-df-convert\" onclick=\"convertToInteractive('df-68aaee64-c29f-4159-969e-0150d60da539')\"\n",
              "              title=\"Convert this dataframe to an interactive table.\"\n",
              "              style=\"display:none;\">\n",
              "        \n",
              "  <svg xmlns=\"http://www.w3.org/2000/svg\" height=\"24px\"viewBox=\"0 0 24 24\"\n",
              "       width=\"24px\">\n",
              "    <path d=\"M0 0h24v24H0V0z\" fill=\"none\"/>\n",
              "    <path d=\"M18.56 5.44l.94 2.06.94-2.06 2.06-.94-2.06-.94-.94-2.06-.94 2.06-2.06.94zm-11 1L8.5 8.5l.94-2.06 2.06-.94-2.06-.94L8.5 2.5l-.94 2.06-2.06.94zm10 10l.94 2.06.94-2.06 2.06-.94-2.06-.94-.94-2.06-.94 2.06-2.06.94z\"/><path d=\"M17.41 7.96l-1.37-1.37c-.4-.4-.92-.59-1.43-.59-.52 0-1.04.2-1.43.59L10.3 9.45l-7.72 7.72c-.78.78-.78 2.05 0 2.83L4 21.41c.39.39.9.59 1.41.59.51 0 1.02-.2 1.41-.59l7.78-7.78 2.81-2.81c.8-.78.8-2.07 0-2.86zM5.41 20L4 18.59l7.72-7.72 1.47 1.35L5.41 20z\"/>\n",
              "  </svg>\n",
              "      </button>\n",
              "      \n",
              "  <style>\n",
              "    .colab-df-container {\n",
              "      display:flex;\n",
              "      flex-wrap:wrap;\n",
              "      gap: 12px;\n",
              "    }\n",
              "\n",
              "    .colab-df-convert {\n",
              "      background-color: #E8F0FE;\n",
              "      border: none;\n",
              "      border-radius: 50%;\n",
              "      cursor: pointer;\n",
              "      display: none;\n",
              "      fill: #1967D2;\n",
              "      height: 32px;\n",
              "      padding: 0 0 0 0;\n",
              "      width: 32px;\n",
              "    }\n",
              "\n",
              "    .colab-df-convert:hover {\n",
              "      background-color: #E2EBFA;\n",
              "      box-shadow: 0px 1px 2px rgba(60, 64, 67, 0.3), 0px 1px 3px 1px rgba(60, 64, 67, 0.15);\n",
              "      fill: #174EA6;\n",
              "    }\n",
              "\n",
              "    [theme=dark] .colab-df-convert {\n",
              "      background-color: #3B4455;\n",
              "      fill: #D2E3FC;\n",
              "    }\n",
              "\n",
              "    [theme=dark] .colab-df-convert:hover {\n",
              "      background-color: #434B5C;\n",
              "      box-shadow: 0px 1px 3px 1px rgba(0, 0, 0, 0.15);\n",
              "      filter: drop-shadow(0px 1px 2px rgba(0, 0, 0, 0.3));\n",
              "      fill: #FFFFFF;\n",
              "    }\n",
              "  </style>\n",
              "\n",
              "      <script>\n",
              "        const buttonEl =\n",
              "          document.querySelector('#df-68aaee64-c29f-4159-969e-0150d60da539 button.colab-df-convert');\n",
              "        buttonEl.style.display =\n",
              "          google.colab.kernel.accessAllowed ? 'block' : 'none';\n",
              "\n",
              "        async function convertToInteractive(key) {\n",
              "          const element = document.querySelector('#df-68aaee64-c29f-4159-969e-0150d60da539');\n",
              "          const dataTable =\n",
              "            await google.colab.kernel.invokeFunction('convertToInteractive',\n",
              "                                                     [key], {});\n",
              "          if (!dataTable) return;\n",
              "\n",
              "          const docLinkHtml = 'Like what you see? Visit the ' +\n",
              "            '<a target=\"_blank\" href=https://colab.research.google.com/notebooks/data_table.ipynb>data table notebook</a>'\n",
              "            + ' to learn more about interactive tables.';\n",
              "          element.innerHTML = '';\n",
              "          dataTable['output_type'] = 'display_data';\n",
              "          await google.colab.output.renderOutput(dataTable, element);\n",
              "          const docLink = document.createElement('div');\n",
              "          docLink.innerHTML = docLinkHtml;\n",
              "          element.appendChild(docLink);\n",
              "        }\n",
              "      </script>\n",
              "    </div>\n",
              "  </div>\n",
              "  "
            ]
          },
          "metadata": {},
          "execution_count": 3
        }
      ]
    },
    {
      "cell_type": "code",
      "source": [
        "df['is_depression'].value_counts()"
      ],
      "metadata": {
        "colab": {
          "base_uri": "https://localhost:8080/"
        },
        "id": "W8kUcuPc502e",
        "outputId": "c9b016ef-1f59-46a0-bea3-67dfc43f2c7d"
      },
      "execution_count": null,
      "outputs": [
        {
          "output_type": "execute_result",
          "data": {
            "text/plain": [
              "0    3900\n",
              "1    3831\n",
              "Name: is_depression, dtype: int64"
            ]
          },
          "metadata": {},
          "execution_count": 4
        }
      ]
    },
    {
      "cell_type": "code",
      "source": [
        "sns.barplot(x=df['is_depression'].value_counts().index, y=df['is_depression'].value_counts())"
      ],
      "metadata": {
        "colab": {
          "base_uri": "https://localhost:8080/",
          "height": 282
        },
        "id": "KuXsvnS97HL9",
        "outputId": "4602f6cb-0b7c-4e93-aa33-57b311ed2733"
      },
      "execution_count": null,
      "outputs": [
        {
          "output_type": "execute_result",
          "data": {
            "text/plain": [
              "<matplotlib.axes._subplots.AxesSubplot at 0x7fd5fbc7efd0>"
            ]
          },
          "metadata": {},
          "execution_count": 5
        },
        {
          "output_type": "display_data",
          "data": {
            "text/plain": [
              "<Figure size 432x288 with 1 Axes>"
            ],
            "image/png": "[encoded data removed]"
          },
          "metadata": {
            "needs_background": "light"
          }
        }
      ]
    },
    {
      "cell_type": "markdown",
      "source": [
        "# preprocessing teks"
      ],
      "metadata": {
        "id": "8jo27Ck7_xDB"
      }
    },
    {
      "cell_type": "code",
      "source": [
        "lmt = nltk.stem.WordNetLemmatizer()\n",
        "kalimat = []"
      ],
      "metadata": {
        "id": "EM7GW5je-wCc"
      },
      "execution_count": null,
      "outputs": []
    },
    {
      "cell_type": "code",
      "source": [
        "#melakukan teks prosesing\n",
        "for i in range(len(df.clean_text)):\n",
        "  #menghilangkan semua simbol pada teks dan membuat teks lowercase\n",
        "  teks = re.sub(\"[^a-zA-Z]\",\" \",df.clean_text[i])\n",
        "  teks = teks.lower()\n",
        "  #tokenisasi kata menggunakan library nltk\n",
        "  teks = nltk.word_tokenize(teks)\n",
        "  #melakukan lemmization menggunakan list comprehension sembari menghilangkan stopwords\n",
        "  tekss = [lmt.lemmatize(word, 'v') for word in teks if word not in stopwords.words('english')]\n",
        "  teks = \" \".join(tekss)\n",
        "  df.clean_text[i] = teks\n",
        "  kalimat.append(teks)"
      ],
      "metadata": {
        "colab": {
          "base_uri": "https://localhost:8080/"
        },
        "id": "eSqoWZ_G_F8t",
        "outputId": "4c1fef43-13e0-47ac-e475-ab4d1cb5af68"
      },
      "execution_count": null,
      "outputs": [
        {
          "output_type": "stream",
          "name": "stderr",
          "text": [
            "/usr/local/lib/python3.7/dist-packages/ipykernel_launcher.py:11: SettingWithCopyWarning: \n",
            "A value is trying to be set on a copy of a slice from a DataFrame\n",
            "\n",
            "See the caveats in the documentation: https://pandas.pydata.org/pandas-docs/stable/user_guide/indexing.html#returning-a-view-versus-a-copy\n",
            "  # This is added back by InteractiveShellApp.init_path()\n"
          ]
        }
      ]
    },
    {
      "cell_type": "markdown",
      "source": [
        "# embedding or encoding"
      ],
      "metadata": {
        "id": "TXJEjxEjGbXL"
      }
    },
    {
      "cell_type": "markdown",
      "source": [
        "**count vectorizer**"
      ],
      "metadata": {
        "id": "FoV6I-ZyGhfu"
      }
    },
    {
      "cell_type": "code",
      "source": [
        "from sklearn.feature_extraction.text import CountVectorizer\n",
        "vectorizer=CountVectorizer()"
      ],
      "metadata": {
        "id": "dD6P-gqbFred"
      },
      "execution_count": null,
      "outputs": []
    },
    {
      "cell_type": "markdown",
      "source": [
        "# panggil model"
      ],
      "metadata": {
        "id": "DIllWTn1YOlU"
      }
    },
    {
      "cell_type": "code",
      "source": [
        "from sklearn.model_selection import train_test_split"
      ],
      "metadata": {
        "id": "5krJOxByYp4R"
      },
      "execution_count": null,
      "outputs": []
    },
    {
      "cell_type": "markdown",
      "source": [
        "**svm**"
      ],
      "metadata": {
        "id": "Y31euDlYZ08a"
      }
    },
    {
      "cell_type": "code",
      "source": [
        "from sklearn import svm"
      ],
      "metadata": {
        "id": "Un1yoRLZZ2YM"
      },
      "execution_count": null,
      "outputs": []
    },
    {
      "cell_type": "code",
      "source": [
        "SVM1 = svm.SVC()"
      ],
      "metadata": {
        "id": "sDSMYrlxaKaV"
      },
      "execution_count": null,
      "outputs": []
    },
    {
      "cell_type": "markdown",
      "source": [
        "# memasukkan data uji"
      ],
      "metadata": {
        "id": "wWIYNDu4vEB7"
      }
    },
    {
      "cell_type": "code",
      "source": [
        "df_test = pd.read_csv('https://raw.githubusercontent.com/acruz2332/datasets/main/copy%20sample%20gemastik%20-%20Form%20Responses%201%20(4).csv')\n",
        "df_test = df_test.drop(df_test.columns[0], axis=1)\n",
        "df_test"
      ],
      "metadata": {
        "colab": {
          "base_uri": "https://localhost:8080/"
        },
        "id": "HTxFGMMfvMNQ",
        "outputId": "5248d8c8-8d3a-4604-ef13-7dae83bbd2c4"
      },
      "execution_count": null,
      "outputs": [
        {
          "output_type": "execute_result",
          "data": {
            "text/plain": [
              "    is_deppresion                                               text\n",
              "0               0  Karena saya pribadi yang jarang sekali memilik...\n",
              "1               0  karena tidak bisa mengatur waktu dengan baik, ...\n",
              "2               1  Pada saat saya kehilangan ibu saya ketika saya...\n",
              "3               1  Terkadang saya terlalu terbawa dengan permasal...\n",
              "4               1  Terkadang di masa perkuliahan ini memang serin...\n",
              "5               1  Pada akhir bulan Juni ada seseorang yang menin...\n",
              "6               1  Waktu itu saya pernah mengalami depresi, karen...\n",
              "7               1  Subhanallah, waktu sebelumnya kan luring yaa, ...\n",
              "8               1  Di masa SMA saya, pada saat itu saya mengalami...\n",
              "9               0  tidak terlalu memikirkan suatu hal, semuanya d...\n",
              "10              1  Gagal masuk Perguruan tinggi yang saya inginka...\n",
              "11              1  Kegiatan perkuliahan offline yang membuat saya...\n",
              "12              1  Ketika bekerja seringkali saya mendapat pekerj...\n",
              "13              1  Banyak, ada masalah intern dan eskternal datan...\n",
              "14              1  Kebetulan gw pengen berkarir dibidang lain yan...\n",
              "15              1  Dulu pernah diberikan amanah untuk mengajar pa...\n",
              "16              1     Overthinking, overworked, overpressure, lonely\n",
              "17              0  Pada tahun 2020 silam, ketika saya hendak masu...\n",
              "18              1  Depresi tapi sudah capek membicarakannya. Kala...\n",
              "19              0  Hidup mah jalan aja, selalu merasa bersyukur, ...\n",
              "20              0  Saya suka nongkrong dengan teman teman sehingg...\n",
              "21              0  Saya mempunyai keluarga dan lingkungan yang cu...\n",
              "22              0                 karena saya senang menjalani hidup\n",
              "23              1  sebelum masa kuliah saya merasa tertekan karen...\n",
              "24              1  Semasa kbm online saat pandemi, suatu masa say...\n",
              "25              1                       terlalu khawatir berlebihan \n",
              "26              0  Saya orang yang menyikapi hal hal, yang membua...\n",
              "27              1  Saya merasa tertekan karena semasa mengerjakan...\n",
              "28              0  saya orangnya pembawaannya santai, jadi jika a...\n",
              "29              0               Saya sangat senang saat bermain bola\n",
              "30              0                         Saya tidak pernah menyesal\n",
              "31              0  Saya merindukan seseorang yang saya temui peka...\n",
              "32              0                 rumahku memiliki halaman yang luas\n",
              "33              1                  tugas matematika ini sangat sulit\n",
              "34              0  aku pernah menyatakan cinta kepadanya dan dite...\n",
              "35              0  satu satunya momen yang selalu kuingat adalah ...\n",
              "36              0  Saya suka bermain dengan siapapun dan permaina...\n",
              "37              0            hidup ini terasa asik apabila bersyukur\n",
              "38              0                   selalu tersenyum kepada siapapun\n",
              "39              0  Saya memiliki sifat yang periang dan suka meng..."
            ],
            "text/html": [
              "\n",
              "  <div id=\"df-be087c93-3e61-4e9b-8705-9112572fe5db\">\n",
              "    <div class=\"colab-df-container\">\n",
              "      <div>\n",
              "<style scoped>\n",
              "    .dataframe tbody tr th:only-of-type {\n",
              "        vertical-align: middle;\n",
              "    }\n",
              "\n",
              "    .dataframe tbody tr th {\n",
              "        vertical-align: top;\n",
              "    }\n",
              "\n",
              "    .dataframe thead th {\n",
              "        text-align: right;\n",
              "    }\n",
              "</style>\n",
              "<table border=\"1\" class=\"dataframe\">\n",
              "  <thead>\n",
              "    <tr style=\"text-align: right;\">\n",
              "      <th></th>\n",
              "      <th>is_deppresion</th>\n",
              "      <th>text</th>\n",
              "    </tr>\n",
              "  </thead>\n",
              "  <tbody>\n",
              "    <tr>\n",
              "      <th>0</th>\n",
              "      <td>0</td>\n",
              "      <td>Karena saya pribadi yang jarang sekali memilik...</td>\n",
              "    </tr>\n",
              "    <tr>\n",
              "      <th>1</th>\n",
              "      <td>0</td>\n",
              "      <td>karena tidak bisa mengatur waktu dengan baik, ...</td>\n",
              "    </tr>\n",
              "    <tr>\n",
              "      <th>2</th>\n",
              "      <td>1</td>\n",
              "      <td>Pada saat saya kehilangan ibu saya ketika saya...</td>\n",
              "    </tr>\n",
              "    <tr>\n",
              "      <th>3</th>\n",
              "      <td>1</td>\n",
              "      <td>Terkadang saya terlalu terbawa dengan permasal...</td>\n",
              "    </tr>\n",
              "    <tr>\n",
              "      <th>4</th>\n",
              "      <td>1</td>\n",
              "      <td>Terkadang di masa perkuliahan ini memang serin...</td>\n",
              "    </tr>\n",
              "    <tr>\n",
              "      <th>5</th>\n",
              "      <td>1</td>\n",
              "      <td>Pada akhir bulan Juni ada seseorang yang menin...</td>\n",
              "    </tr>\n",
              "    <tr>\n",
              "      <th>6</th>\n",
              "      <td>1</td>\n",
              "      <td>Waktu itu saya pernah mengalami depresi, karen...</td>\n",
              "    </tr>\n",
              "    <tr>\n",
              "      <th>7</th>\n",
              "      <td>1</td>\n",
              "      <td>Subhanallah, waktu sebelumnya kan luring yaa, ...</td>\n",
              "    </tr>\n",
              "    <tr>\n",
              "      <th>8</th>\n",
              "      <td>1</td>\n",
              "      <td>Di masa SMA saya, pada saat itu saya mengalami...</td>\n",
              "    </tr>\n",
              "    <tr>\n",
              "      <th>9</th>\n",
              "      <td>0</td>\n",
              "      <td>tidak terlalu memikirkan suatu hal, semuanya d...</td>\n",
              "    </tr>\n",
              "    <tr>\n",
              "      <th>10</th>\n",
              "      <td>1</td>\n",
              "      <td>Gagal masuk Perguruan tinggi yang saya inginka...</td>\n",
              "    </tr>\n",
              "    <tr>\n",
              "      <th>11</th>\n",
              "      <td>1</td>\n",
              "      <td>Kegiatan perkuliahan offline yang membuat saya...</td>\n",
              "    </tr>\n",
              "    <tr>\n",
              "      <th>12</th>\n",
              "      <td>1</td>\n",
              "      <td>Ketika bekerja seringkali saya mendapat pekerj...</td>\n",
              "    </tr>\n",
              "    <tr>\n",
              "      <th>13</th>\n",
              "      <td>1</td>\n",
              "      <td>Banyak, ada masalah intern dan eskternal datan...</td>\n",
              "    </tr>\n",
              "    <tr>\n",
              "      <th>14</th>\n",
              "      <td>1</td>\n",
              "      <td>Kebetulan gw pengen berkarir dibidang lain yan...</td>\n",
              "    </tr>\n",
              "    <tr>\n",
              "      <th>15</th>\n",
              "      <td>1</td>\n",
              "      <td>Dulu pernah diberikan amanah untuk mengajar pa...</td>\n",
              "    </tr>\n",
              "    <tr>\n",
              "      <th>16</th>\n",
              "      <td>1</td>\n",
              "      <td>Overthinking, overworked, overpressure, lonely</td>\n",
              "    </tr>\n",
              "    <tr>\n",
              "      <th>17</th>\n",
              "      <td>0</td>\n",
              "      <td>Pada tahun 2020 silam, ketika saya hendak masu...</td>\n",
              "    </tr>\n",
              "    <tr>\n",
              "      <th>18</th>\n",
              "      <td>1</td>\n",
              "      <td>Depresi tapi sudah capek membicarakannya. Kala...</td>\n",
              "    </tr>\n",
              "    <tr>\n",
              "      <th>19</th>\n",
              "      <td>0</td>\n",
              "      <td>Hidup mah jalan aja, selalu merasa bersyukur, ...</td>\n",
              "    </tr>\n",
              "    <tr>\n",
              "      <th>20</th>\n",
              "      <td>0</td>\n",
              "      <td>Saya suka nongkrong dengan teman teman sehingg...</td>\n",
              "    </tr>\n",
              "    <tr>\n",
              "      <th>21</th>\n",
              "      <td>0</td>\n",
              "      <td>Saya mempunyai keluarga dan lingkungan yang cu...</td>\n",
              "    </tr>\n",
              "    <tr>\n",
              "      <th>22</th>\n",
              "      <td>0</td>\n",
              "      <td>karena saya senang menjalani hidup</td>\n",
              "    </tr>\n",
              "    <tr>\n",
              "      <th>23</th>\n",
              "      <td>1</td>\n",
              "      <td>sebelum masa kuliah saya merasa tertekan karen...</td>\n",
              "    </tr>\n",
              "    <tr>\n",
              "      <th>24</th>\n",
              "      <td>1</td>\n",
              "      <td>Semasa kbm online saat pandemi, suatu masa say...</td>\n",
              "    </tr>\n",
              "    <tr>\n",
              "      <th>25</th>\n",
              "      <td>1</td>\n",
              "      <td>terlalu khawatir berlebihan</td>\n",
              "    </tr>\n",
              "    <tr>\n",
              "      <th>26</th>\n",
              "      <td>0</td>\n",
              "      <td>Saya orang yang menyikapi hal hal, yang membua...</td>\n",
              "    </tr>\n",
              "    <tr>\n",
              "      <th>27</th>\n",
              "      <td>1</td>\n",
              "      <td>Saya merasa tertekan karena semasa mengerjakan...</td>\n",
              "    </tr>\n",
              "    <tr>\n",
              "      <th>28</th>\n",
              "      <td>0</td>\n",
              "      <td>saya orangnya pembawaannya santai, jadi jika a...</td>\n",
              "    </tr>\n",
              "    <tr>\n",
              "      <th>29</th>\n",
              "      <td>0</td>\n",
              "      <td>Saya sangat senang saat bermain bola</td>\n",
              "    </tr>\n",
              "    <tr>\n",
              "      <th>30</th>\n",
              "      <td>0</td>\n",
              "      <td>Saya tidak pernah menyesal</td>\n",
              "    </tr>\n",
              "    <tr>\n",
              "      <th>31</th>\n",
              "      <td>0</td>\n",
              "      <td>Saya merindukan seseorang yang saya temui peka...</td>\n",
              "    </tr>\n",
              "    <tr>\n",
              "      <th>32</th>\n",
              "      <td>0</td>\n",
              "      <td>rumahku memiliki halaman yang luas</td>\n",
              "    </tr>\n",
              "    <tr>\n",
              "      <th>33</th>\n",
              "      <td>1</td>\n",
              "      <td>tugas matematika ini sangat sulit</td>\n",
              "    </tr>\n",
              "    <tr>\n",
              "      <th>34</th>\n",
              "      <td>0</td>\n",
              "      <td>aku pernah menyatakan cinta kepadanya dan dite...</td>\n",
              "    </tr>\n",
              "    <tr>\n",
              "      <th>35</th>\n",
              "      <td>0</td>\n",
              "      <td>satu satunya momen yang selalu kuingat adalah ...</td>\n",
              "    </tr>\n",
              "    <tr>\n",
              "      <th>36</th>\n",
              "      <td>0</td>\n",
              "      <td>Saya suka bermain dengan siapapun dan permaina...</td>\n",
              "    </tr>\n",
              "    <tr>\n",
              "      <th>37</th>\n",
              "      <td>0</td>\n",
              "      <td>hidup ini terasa asik apabila bersyukur</td>\n",
              "    </tr>\n",
              "    <tr>\n",
              "      <th>38</th>\n",
              "      <td>0</td>\n",
              "      <td>selalu tersenyum kepada siapapun</td>\n",
              "    </tr>\n",
              "    <tr>\n",
              "      <th>39</th>\n",
              "      <td>0</td>\n",
              "      <td>Saya memiliki sifat yang periang dan suka meng...</td>\n",
              "    </tr>\n",
              "  </tbody>\n",
              "</table>\n",
              "</div>\n",
              "      <button class=\"colab-df-convert\" onclick=\"convertToInteractive('df-be087c93-3e61-4e9b-8705-9112572fe5db')\"\n",
              "              title=\"Convert this dataframe to an interactive table.\"\n",
              "              style=\"display:none;\">\n",
              "        \n",
              "  <svg xmlns=\"http://www.w3.org/2000/svg\" height=\"24px\"viewBox=\"0 0 24 24\"\n",
              "       width=\"24px\">\n",
              "    <path d=\"M0 0h24v24H0V0z\" fill=\"none\"/>\n",
              "    <path d=\"M18.56 5.44l.94 2.06.94-2.06 2.06-.94-2.06-.94-.94-2.06-.94 2.06-2.06.94zm-11 1L8.5 8.5l.94-2.06 2.06-.94-2.06-.94L8.5 2.5l-.94 2.06-2.06.94zm10 10l.94 2.06.94-2.06 2.06-.94-2.06-.94-.94-2.06-.94 2.06-2.06.94z\"/><path d=\"M17.41 7.96l-1.37-1.37c-.4-.4-.92-.59-1.43-.59-.52 0-1.04.2-1.43.59L10.3 9.45l-7.72 7.72c-.78.78-.78 2.05 0 2.83L4 21.41c.39.39.9.59 1.41.59.51 0 1.02-.2 1.41-.59l7.78-7.78 2.81-2.81c.8-.78.8-2.07 0-2.86zM5.41 20L4 18.59l7.72-7.72 1.47 1.35L5.41 20z\"/>\n",
              "  </svg>\n",
              "      </button>\n",
              "      \n",
              "  <style>\n",
              "    .colab-df-container {\n",
              "      display:flex;\n",
              "      flex-wrap:wrap;\n",
              "      gap: 12px;\n",
              "    }\n",
              "\n",
              "    .colab-df-convert {\n",
              "      background-color: #E8F0FE;\n",
              "      border: none;\n",
              "      border-radius: 50%;\n",
              "      cursor: pointer;\n",
              "      display: none;\n",
              "      fill: #1967D2;\n",
              "      height: 32px;\n",
              "      padding: 0 0 0 0;\n",
              "      width: 32px;\n",
              "    }\n",
              "\n",
              "    .colab-df-convert:hover {\n",
              "      background-color: #E2EBFA;\n",
              "      box-shadow: 0px 1px 2px rgba(60, 64, 67, 0.3), 0px 1px 3px 1px rgba(60, 64, 67, 0.15);\n",
              "      fill: #174EA6;\n",
              "    }\n",
              "\n",
              "    [theme=dark] .colab-df-convert {\n",
              "      background-color: #3B4455;\n",
              "      fill: #D2E3FC;\n",
              "    }\n",
              "\n",
              "    [theme=dark] .colab-df-convert:hover {\n",
              "      background-color: #434B5C;\n",
              "      box-shadow: 0px 1px 3px 1px rgba(0, 0, 0, 0.15);\n",
              "      filter: drop-shadow(0px 1px 2px rgba(0, 0, 0, 0.3));\n",
              "      fill: #FFFFFF;\n",
              "    }\n",
              "  </style>\n",
              "\n",
              "      <script>\n",
              "        const buttonEl =\n",
              "          document.querySelector('#df-be087c93-3e61-4e9b-8705-9112572fe5db button.colab-df-convert');\n",
              "        buttonEl.style.display =\n",
              "          google.colab.kernel.accessAllowed ? 'block' : 'none';\n",
              "\n",
              "        async function convertToInteractive(key) {\n",
              "          const element = document.querySelector('#df-be087c93-3e61-4e9b-8705-9112572fe5db');\n",
              "          const dataTable =\n",
              "            await google.colab.kernel.invokeFunction('convertToInteractive',\n",
              "                                                     [key], {});\n",
              "          if (!dataTable) return;\n",
              "\n",
              "          const docLinkHtml = 'Like what you see? Visit the ' +\n",
              "            '<a target=\"_blank\" href=https://colab.research.google.com/notebooks/data_table.ipynb>data table notebook</a>'\n",
              "            + ' to learn more about interactive tables.';\n",
              "          element.innerHTML = '';\n",
              "          dataTable['output_type'] = 'display_data';\n",
              "          await google.colab.output.renderOutput(dataTable, element);\n",
              "          const docLink = document.createElement('div');\n",
              "          docLink.innerHTML = docLinkHtml;\n",
              "          element.appendChild(docLink);\n",
              "        }\n",
              "      </script>\n",
              "    </div>\n",
              "  </div>\n",
              "  "
            ]
          },
          "metadata": {},
          "execution_count": 13
        }
      ]
    },
    {
      "cell_type": "code",
      "source": [
        "pip install googletrans==3.1.0a0"
      ],
      "metadata": {
        "colab": {
          "base_uri": "https://localhost:8080/"
        },
        "id": "UTMCMgNoxg_I",
        "outputId": "62752a6d-db21-485f-c657-8226c469d4dc"
      },
      "execution_count": null,
      "outputs": [
        {
          "output_type": "stream",
          "name": "stdout",
          "text": [
            "Looking in indexes: https://pypi.org/simple, https://us-python.pkg.dev/colab-wheels/public/simple/\n",
            "Collecting googletrans==3.1.0a0\n",
            "  Downloading googletrans-3.1.0a0.tar.gz (19 kB)\n",
            "Collecting httpx==0.13.3\n",
            "  Downloading httpx-0.13.3-py3-none-any.whl (55 kB)\n",
            "\u001b[K     |████████████████████████████████| 55 kB 2.5 MB/s \n",
            "\u001b[?25hCollecting sniffio\n",
            "  Downloading sniffio-1.3.0-py3-none-any.whl (10 kB)\n",
            "Requirement already satisfied: chardet==3.* in /usr/local/lib/python3.7/dist-packages (from httpx==0.13.3->googletrans==3.1.0a0) (3.0.4)\n",
            "Collecting hstspreload\n",
            "  Downloading hstspreload-2022.9.1-py3-none-any.whl (1.4 MB)\n",
            "\u001b[K     |████████████████████████████████| 1.4 MB 33.5 MB/s \n",
            "\u001b[?25hRequirement already satisfied: certifi in /usr/local/lib/python3.7/dist-packages (from httpx==0.13.3->googletrans==3.1.0a0) (2022.6.15)\n",
            "Collecting httpcore==0.9.*\n",
            "  Downloading httpcore-0.9.1-py3-none-any.whl (42 kB)\n",
            "\u001b[K     |████████████████████████████████| 42 kB 1.2 MB/s \n",
            "\u001b[?25hRequirement already satisfied: idna==2.* in /usr/local/lib/python3.7/dist-packages (from httpx==0.13.3->googletrans==3.1.0a0) (2.10)\n",
            "Collecting rfc3986<2,>=1.3\n",
            "  Downloading rfc3986-1.5.0-py2.py3-none-any.whl (31 kB)\n",
            "Collecting h11<0.10,>=0.8\n",
            "  Downloading h11-0.9.0-py2.py3-none-any.whl (53 kB)\n",
            "\u001b[K     |████████████████████████████████| 53 kB 2.2 MB/s \n",
            "\u001b[?25hCollecting h2==3.*\n",
            "  Downloading h2-3.2.0-py2.py3-none-any.whl (65 kB)\n",
            "\u001b[K     |████████████████████████████████| 65 kB 3.7 MB/s \n",
            "\u001b[?25hCollecting hyperframe<6,>=5.2.0\n",
            "  Downloading hyperframe-5.2.0-py2.py3-none-any.whl (12 kB)\n",
            "Collecting hpack<4,>=3.0\n",
            "  Downloading hpack-3.0.0-py2.py3-none-any.whl (38 kB)\n",
            "Building wheels for collected packages: googletrans\n",
            "  Building wheel for googletrans (setup.py) ... \u001b[?25l\u001b[?25hdone\n",
            "  Created wheel for googletrans: filename=googletrans-3.1.0a0-py3-none-any.whl size=16367 sha256=ce9e704ed82f5b6e561e885fddd50e28a84deb89dc93f8a1ef13f28f8c1c7558\n",
            "  Stored in directory: /root/.cache/pip/wheels/0c/be/fe/93a6a40ffe386e16089e44dad9018ebab9dc4cb9eb7eab65ae\n",
            "Successfully built googletrans\n",
            "Installing collected packages: hyperframe, hpack, sniffio, h2, h11, rfc3986, httpcore, hstspreload, httpx, googletrans\n",
            "Successfully installed googletrans-3.1.0a0 h11-0.9.0 h2-3.2.0 hpack-3.0.0 hstspreload-2022.9.1 httpcore-0.9.1 httpx-0.13.3 hyperframe-5.2.0 rfc3986-1.5.0 sniffio-1.3.0\n"
          ]
        }
      ]
    },
    {
      "cell_type": "code",
      "source": [
        "from googletrans import Translator"
      ],
      "metadata": {
        "id": "C3Iwz_6oxcBD"
      },
      "execution_count": null,
      "outputs": []
    },
    {
      "cell_type": "code",
      "source": [
        "translator = Translator()\n",
        "\n",
        "for i in range(len(df_test)):\n",
        "  translated_text = translator.translate(df_test.text[i], dest='en')\n",
        "  df_test.text[i] = translated_text.text\n"
      ],
      "metadata": {
        "colab": {
          "base_uri": "https://localhost:8080/"
        },
        "id": "db1aLl4JxWN_",
        "outputId": "a4c47ce4-61a6-4eca-fb71-ec65c7f98236"
      },
      "execution_count": null,
      "outputs": [
        {
          "output_type": "stream",
          "name": "stderr",
          "text": [
            "/usr/local/lib/python3.7/dist-packages/ipykernel_launcher.py:5: SettingWithCopyWarning: \n",
            "A value is trying to be set on a copy of a slice from a DataFrame\n",
            "\n",
            "See the caveats in the documentation: https://pandas.pydata.org/pandas-docs/stable/user_guide/indexing.html#returning-a-view-versus-a-copy\n",
            "  \"\"\"\n"
          ]
        }
      ]
    },
    {
      "cell_type": "code",
      "source": [
        "df_test"
      ],
      "metadata": {
        "colab": {
          "base_uri": "https://localhost:8080/"
        },
        "id": "c3WY2twiyRDe",
        "outputId": "0afea442-de2b-4954-ff64-0b280d82a9e7"
      },
      "execution_count": null,
      "outputs": [
        {
          "output_type": "execute_result",
          "data": {
            "text/plain": [
              "    is_deppresion                                               text\n",
              "0               0  Because I personally rarely have high expectat...\n",
              "1               0  because you can't manage your time well, espec...\n",
              "2               1  When I lost my mother when I was trying to ent...\n",
              "3               1  Sometimes I get too carried away with the prob...\n",
              "4               1  Sometimes during this lecture period, assignme...\n",
              "5               1  At the end of June someone died. It left me de...\n",
              "6               1  At that time I had experienced depression, bec...\n",
              "7               1  Subhanallah, the previous time it was offline,...\n",
              "8               1  In my high school days, at that time I experie...\n",
              "9               0  don't really think about anything, everything ...\n",
              "10              1  Failed to enter the college that I wanted. It ...\n",
              "11              1  Offline lectures where I meet a lot of people,...\n",
              "12              1  When I work, I often get a job that exceeds my...\n",
              "13              1  Many, there are internal and external problems...\n",
              "14              1  Incidentally, I want to have a career in anoth...\n",
              "15              1  In the past, I was given the mandate to teach ...\n",
              "16              1     Overthinking, overworked, overpressure, lonely\n",
              "17              0  In 2020 ago, when I was about to enter college...\n",
              "18              1  Depressed but tired of talking about it. Talki...\n",
              "19              0  Life is just a walk, always feel grateful, if ...\n",
              "20              0  I like hanging out with friends so I often exc...\n",
              "21              0  I have a very supportive family and environmen...\n",
              "22              0                             because I like to live\n",
              "23              1  Before college, I felt pressured because I was...\n",
              "24              1  During kbm online during a pandemic, one time ...\n",
              "25              1                                     worry too much\n",
              "26              0  I am a person who reacts to things, which are ...\n",
              "27              1  I feel pressured because while working on my f...\n",
              "28              0  I am a relaxed person, so if there is a proble...\n",
              "29              0                   I am very happy when I play ball\n",
              "30              0                                     I never regret\n",
              "31              0                     I miss someone I met last week\n",
              "32              0                          my house has a large yard\n",
              "33              1                   This math task is very difficult\n",
              "34              0   I once confessed my love to him and was accepted\n",
              "35              0  the only moment i always remember is when i go...\n",
              "36              0  I like to play with anyone and any game. Going...\n",
              "37              0                  life is fun when you are grateful\n",
              "38              0                           always smile to everyone\n",
              "39              0  I have a cheerful nature and like to entertain..."
            ],
            "text/html": [
              "\n",
              "  <div id=\"df-a56293f4-373b-4427-be96-75f2e5bba890\">\n",
              "    <div class=\"colab-df-container\">\n",
              "      <div>\n",
              "<style scoped>\n",
              "    .dataframe tbody tr th:only-of-type {\n",
              "        vertical-align: middle;\n",
              "    }\n",
              "\n",
              "    .dataframe tbody tr th {\n",
              "        vertical-align: top;\n",
              "    }\n",
              "\n",
              "    .dataframe thead th {\n",
              "        text-align: right;\n",
              "    }\n",
              "</style>\n",
              "<table border=\"1\" class=\"dataframe\">\n",
              "  <thead>\n",
              "    <tr style=\"text-align: right;\">\n",
              "      <th></th>\n",
              "      <th>is_deppresion</th>\n",
              "      <th>text</th>\n",
              "    </tr>\n",
              "  </thead>\n",
              "  <tbody>\n",
              "    <tr>\n",
              "      <th>0</th>\n",
              "      <td>0</td>\n",
              "      <td>Because I personally rarely have high expectat...</td>\n",
              "    </tr>\n",
              "    <tr>\n",
              "      <th>1</th>\n",
              "      <td>0</td>\n",
              "      <td>because you can't manage your time well, espec...</td>\n",
              "    </tr>\n",
              "    <tr>\n",
              "      <th>2</th>\n",
              "      <td>1</td>\n",
              "      <td>When I lost my mother when I was trying to ent...</td>\n",
              "    </tr>\n",
              "    <tr>\n",
              "      <th>3</th>\n",
              "      <td>1</td>\n",
              "      <td>Sometimes I get too carried away with the prob...</td>\n",
              "    </tr>\n",
              "    <tr>\n",
              "      <th>4</th>\n",
              "      <td>1</td>\n",
              "      <td>Sometimes during this lecture period, assignme...</td>\n",
              "    </tr>\n",
              "    <tr>\n",
              "      <th>5</th>\n",
              "      <td>1</td>\n",
              "      <td>At the end of June someone died. It left me de...</td>\n",
              "    </tr>\n",
              "    <tr>\n",
              "      <th>6</th>\n",
              "      <td>1</td>\n",
              "      <td>At that time I had experienced depression, bec...</td>\n",
              "    </tr>\n",
              "    <tr>\n",
              "      <th>7</th>\n",
              "      <td>1</td>\n",
              "      <td>Subhanallah, the previous time it was offline,...</td>\n",
              "    </tr>\n",
              "    <tr>\n",
              "      <th>8</th>\n",
              "      <td>1</td>\n",
              "      <td>In my high school days, at that time I experie...</td>\n",
              "    </tr>\n",
              "    <tr>\n",
              "      <th>9</th>\n",
              "      <td>0</td>\n",
              "      <td>don't really think about anything, everything ...</td>\n",
              "    </tr>\n",
              "    <tr>\n",
              "      <th>10</th>\n",
              "      <td>1</td>\n",
              "      <td>Failed to enter the college that I wanted. It ...</td>\n",
              "    </tr>\n",
              "    <tr>\n",
              "      <th>11</th>\n",
              "      <td>1</td>\n",
              "      <td>Offline lectures where I meet a lot of people,...</td>\n",
              "    </tr>\n",
              "    <tr>\n",
              "      <th>12</th>\n",
              "      <td>1</td>\n",
              "      <td>When I work, I often get a job that exceeds my...</td>\n",
              "    </tr>\n",
              "    <tr>\n",
              "      <th>13</th>\n",
              "      <td>1</td>\n",
              "      <td>Many, there are internal and external problems...</td>\n",
              "    </tr>\n",
              "    <tr>\n",
              "      <th>14</th>\n",
              "      <td>1</td>\n",
              "      <td>Incidentally, I want to have a career in anoth...</td>\n",
              "    </tr>\n",
              "    <tr>\n",
              "      <th>15</th>\n",
              "      <td>1</td>\n",
              "      <td>In the past, I was given the mandate to teach ...</td>\n",
              "    </tr>\n",
              "    <tr>\n",
              "      <th>16</th>\n",
              "      <td>1</td>\n",
              "      <td>Overthinking, overworked, overpressure, lonely</td>\n",
              "    </tr>\n",
              "    <tr>\n",
              "      <th>17</th>\n",
              "      <td>0</td>\n",
              "      <td>In 2020 ago, when I was about to enter college...</td>\n",
              "    </tr>\n",
              "    <tr>\n",
              "      <th>18</th>\n",
              "      <td>1</td>\n",
              "      <td>Depressed but tired of talking about it. Talki...</td>\n",
              "    </tr>\n",
              "    <tr>\n",
              "      <th>19</th>\n",
              "      <td>0</td>\n",
              "      <td>Life is just a walk, always feel grateful, if ...</td>\n",
              "    </tr>\n",
              "    <tr>\n",
              "      <th>20</th>\n",
              "      <td>0</td>\n",
              "      <td>I like hanging out with friends so I often exc...</td>\n",
              "    </tr>\n",
              "    <tr>\n",
              "      <th>21</th>\n",
              "      <td>0</td>\n",
              "      <td>I have a very supportive family and environmen...</td>\n",
              "    </tr>\n",
              "    <tr>\n",
              "      <th>22</th>\n",
              "      <td>0</td>\n",
              "      <td>because I like to live</td>\n",
              "    </tr>\n",
              "    <tr>\n",
              "      <th>23</th>\n",
              "      <td>1</td>\n",
              "      <td>Before college, I felt pressured because I was...</td>\n",
              "    </tr>\n",
              "    <tr>\n",
              "      <th>24</th>\n",
              "      <td>1</td>\n",
              "      <td>During kbm online during a pandemic, one time ...</td>\n",
              "    </tr>\n",
              "    <tr>\n",
              "      <th>25</th>\n",
              "      <td>1</td>\n",
              "      <td>worry too much</td>\n",
              "    </tr>\n",
              "    <tr>\n",
              "      <th>26</th>\n",
              "      <td>0</td>\n",
              "      <td>I am a person who reacts to things, which are ...</td>\n",
              "    </tr>\n",
              "    <tr>\n",
              "      <th>27</th>\n",
              "      <td>1</td>\n",
              "      <td>I feel pressured because while working on my f...</td>\n",
              "    </tr>\n",
              "    <tr>\n",
              "      <th>28</th>\n",
              "      <td>0</td>\n",
              "      <td>I am a relaxed person, so if there is a proble...</td>\n",
              "    </tr>\n",
              "    <tr>\n",
              "      <th>29</th>\n",
              "      <td>0</td>\n",
              "      <td>I am very happy when I play ball</td>\n",
              "    </tr>\n",
              "    <tr>\n",
              "      <th>30</th>\n",
              "      <td>0</td>\n",
              "      <td>I never regret</td>\n",
              "    </tr>\n",
              "    <tr>\n",
              "      <th>31</th>\n",
              "      <td>0</td>\n",
              "      <td>I miss someone I met last week</td>\n",
              "    </tr>\n",
              "    <tr>\n",
              "      <th>32</th>\n",
              "      <td>0</td>\n",
              "      <td>my house has a large yard</td>\n",
              "    </tr>\n",
              "    <tr>\n",
              "      <th>33</th>\n",
              "      <td>1</td>\n",
              "      <td>This math task is very difficult</td>\n",
              "    </tr>\n",
              "    <tr>\n",
              "      <th>34</th>\n",
              "      <td>0</td>\n",
              "      <td>I once confessed my love to him and was accepted</td>\n",
              "    </tr>\n",
              "    <tr>\n",
              "      <th>35</th>\n",
              "      <td>0</td>\n",
              "      <td>the only moment i always remember is when i go...</td>\n",
              "    </tr>\n",
              "    <tr>\n",
              "      <th>36</th>\n",
              "      <td>0</td>\n",
              "      <td>I like to play with anyone and any game. Going...</td>\n",
              "    </tr>\n",
              "    <tr>\n",
              "      <th>37</th>\n",
              "      <td>0</td>\n",
              "      <td>life is fun when you are grateful</td>\n",
              "    </tr>\n",
              "    <tr>\n",
              "      <th>38</th>\n",
              "      <td>0</td>\n",
              "      <td>always smile to everyone</td>\n",
              "    </tr>\n",
              "    <tr>\n",
              "      <th>39</th>\n",
              "      <td>0</td>\n",
              "      <td>I have a cheerful nature and like to entertain...</td>\n",
              "    </tr>\n",
              "  </tbody>\n",
              "</table>\n",
              "</div>\n",
              "      <button class=\"colab-df-convert\" onclick=\"convertToInteractive('df-a56293f4-373b-4427-be96-75f2e5bba890')\"\n",
              "              title=\"Convert this dataframe to an interactive table.\"\n",
              "              style=\"display:none;\">\n",
              "        \n",
              "  <svg xmlns=\"http://www.w3.org/2000/svg\" height=\"24px\"viewBox=\"0 0 24 24\"\n",
              "       width=\"24px\">\n",
              "    <path d=\"M0 0h24v24H0V0z\" fill=\"none\"/>\n",
              "    <path d=\"M18.56 5.44l.94 2.06.94-2.06 2.06-.94-2.06-.94-.94-2.06-.94 2.06-2.06.94zm-11 1L8.5 8.5l.94-2.06 2.06-.94-2.06-.94L8.5 2.5l-.94 2.06-2.06.94zm10 10l.94 2.06.94-2.06 2.06-.94-2.06-.94-.94-2.06-.94 2.06-2.06.94z\"/><path d=\"M17.41 7.96l-1.37-1.37c-.4-.4-.92-.59-1.43-.59-.52 0-1.04.2-1.43.59L10.3 9.45l-7.72 7.72c-.78.78-.78 2.05 0 2.83L4 21.41c.39.39.9.59 1.41.59.51 0 1.02-.2 1.41-.59l7.78-7.78 2.81-2.81c.8-.78.8-2.07 0-2.86zM5.41 20L4 18.59l7.72-7.72 1.47 1.35L5.41 20z\"/>\n",
              "  </svg>\n",
              "      </button>\n",
              "      \n",
              "  <style>\n",
              "    .colab-df-container {\n",
              "      display:flex;\n",
              "      flex-wrap:wrap;\n",
              "      gap: 12px;\n",
              "    }\n",
              "\n",
              "    .colab-df-convert {\n",
              "      background-color: #E8F0FE;\n",
              "      border: none;\n",
              "      border-radius: 50%;\n",
              "      cursor: pointer;\n",
              "      display: none;\n",
              "      fill: #1967D2;\n",
              "      height: 32px;\n",
              "      padding: 0 0 0 0;\n",
              "      width: 32px;\n",
              "    }\n",
              "\n",
              "    .colab-df-convert:hover {\n",
              "      background-color: #E2EBFA;\n",
              "      box-shadow: 0px 1px 2px rgba(60, 64, 67, 0.3), 0px 1px 3px 1px rgba(60, 64, 67, 0.15);\n",
              "      fill: #174EA6;\n",
              "    }\n",
              "\n",
              "    [theme=dark] .colab-df-convert {\n",
              "      background-color: #3B4455;\n",
              "      fill: #D2E3FC;\n",
              "    }\n",
              "\n",
              "    [theme=dark] .colab-df-convert:hover {\n",
              "      background-color: #434B5C;\n",
              "      box-shadow: 0px 1px 3px 1px rgba(0, 0, 0, 0.15);\n",
              "      filter: drop-shadow(0px 1px 2px rgba(0, 0, 0, 0.3));\n",
              "      fill: #FFFFFF;\n",
              "    }\n",
              "  </style>\n",
              "\n",
              "      <script>\n",
              "        const buttonEl =\n",
              "          document.querySelector('#df-a56293f4-373b-4427-be96-75f2e5bba890 button.colab-df-convert');\n",
              "        buttonEl.style.display =\n",
              "          google.colab.kernel.accessAllowed ? 'block' : 'none';\n",
              "\n",
              "        async function convertToInteractive(key) {\n",
              "          const element = document.querySelector('#df-a56293f4-373b-4427-be96-75f2e5bba890');\n",
              "          const dataTable =\n",
              "            await google.colab.kernel.invokeFunction('convertToInteractive',\n",
              "                                                     [key], {});\n",
              "          if (!dataTable) return;\n",
              "\n",
              "          const docLinkHtml = 'Like what you see? Visit the ' +\n",
              "            '<a target=\"_blank\" href=https://colab.research.google.com/notebooks/data_table.ipynb>data table notebook</a>'\n",
              "            + ' to learn more about interactive tables.';\n",
              "          element.innerHTML = '';\n",
              "          dataTable['output_type'] = 'display_data';\n",
              "          await google.colab.output.renderOutput(dataTable, element);\n",
              "          const docLink = document.createElement('div');\n",
              "          docLink.innerHTML = docLinkHtml;\n",
              "          element.appendChild(docLink);\n",
              "        }\n",
              "      </script>\n",
              "    </div>\n",
              "  </div>\n",
              "  "
            ]
          },
          "metadata": {},
          "execution_count": 17
        }
      ]
    },
    {
      "cell_type": "markdown",
      "source": [
        "**cleaning the data**"
      ],
      "metadata": {
        "id": "jik-QJZivI6i"
      }
    },
    {
      "cell_type": "code",
      "source": [
        "kalimat_test = []"
      ],
      "metadata": {
        "id": "sT0Ftm8wyq6e"
      },
      "execution_count": null,
      "outputs": []
    },
    {
      "cell_type": "code",
      "source": [
        "#melakukan teks prosesing\n",
        "for i in range(len(df_test.text)):\n",
        "  #menghilangkan semua simbol pada teks dan membuat teks lowercase\n",
        "  teks = re.sub(\"[^a-zA-Z]\",\" \",df_test.text[i])\n",
        "  teks = teks.lower()\n",
        "  #tokenisasi kata menggunakan library nltk\n",
        "  teks = nltk.word_tokenize(teks)\n",
        "  #melakukan lemmization menggunakan list comprehension sembari menghilangkan stopwords\n",
        "  tekss = [lmt.lemmatize(word, 'v') for word in teks if word not in stopwords.words('english')]\n",
        "  teks = \" \".join(tekss)\n",
        "  df_test.text[i] = teks\n",
        "  kalimat_test.append(teks)"
      ],
      "metadata": {
        "colab": {
          "base_uri": "https://localhost:8080/"
        },
        "id": "SgXF30ybywxT",
        "outputId": "15a12ef9-0b1d-42c1-9096-622dde946860"
      },
      "execution_count": null,
      "outputs": [
        {
          "output_type": "stream",
          "name": "stderr",
          "text": [
            "/usr/local/lib/python3.7/dist-packages/ipykernel_launcher.py:11: SettingWithCopyWarning: \n",
            "A value is trying to be set on a copy of a slice from a DataFrame\n",
            "\n",
            "See the caveats in the documentation: https://pandas.pydata.org/pandas-docs/stable/user_guide/indexing.html#returning-a-view-versus-a-copy\n",
            "  # This is added back by InteractiveShellApp.init_path()\n"
          ]
        }
      ]
    },
    {
      "cell_type": "markdown",
      "source": [
        "# preprocessing, adding data to datasets"
      ],
      "metadata": {
        "id": "uushX3eM9_An"
      }
    },
    {
      "cell_type": "code",
      "source": [
        "for i in range(len(df_test)):\n",
        "  df.loc[len(df.index)] = [df_test.text[i], df_test.is_deppresion[i]] \n",
        "  kalimat.append(df_test.text[i])"
      ],
      "metadata": {
        "id": "t-LjGHbt-D1S"
      },
      "execution_count": null,
      "outputs": []
    },
    {
      "cell_type": "code",
      "source": [
        "embed_fixed = vectorizer.fit_transform(kalimat).toarray()\n",
        "embed_fixed"
      ],
      "metadata": {
        "colab": {
          "base_uri": "https://localhost:8080/"
        },
        "id": "CnlmSKhi_grr",
        "outputId": "2ca65fe0-83a3-4e73-ce06-cbb25ee39e52"
      },
      "execution_count": null,
      "outputs": [
        {
          "output_type": "execute_result",
          "data": {
            "text/plain": [
              "array([[0, 0, 0, ..., 0, 0, 0],\n",
              "       [0, 0, 0, ..., 0, 0, 0],\n",
              "       [0, 0, 0, ..., 0, 0, 0],\n",
              "       ...,\n",
              "       [0, 0, 0, ..., 0, 0, 0],\n",
              "       [0, 0, 0, ..., 0, 0, 0],\n",
              "       [0, 0, 0, ..., 0, 0, 0]])"
            ]
          },
          "metadata": {},
          "execution_count": 21
        }
      ]
    },
    {
      "cell_type": "code",
      "source": [
        "df.tail(len(df_test))"
      ],
      "metadata": {
        "colab": {
          "base_uri": "https://localhost:8080/",
          "height": 1000
        },
        "id": "oo5Uws46Am1G",
        "outputId": "1faeb364-1d8e-4aaa-f39b-a624b9a9384c"
      },
      "execution_count": null,
      "outputs": [
        {
          "output_type": "execute_result",
          "data": {
            "text/plain": [
              "                                             clean_text  is_depression\n",
              "7731     personally rarely high expectations everything              0\n",
              "7732       manage time well especially get enough sleep              0\n",
              "7733  lose mother try enter university time felt con...              1\n",
              "7734  sometimes get carry away problems face problem...              1\n",
              "7735  sometimes lecture period assignments often giv...              1\n",
              "7736  end june someone die leave devastate sad becom...              1\n",
              "7737  time experience depression repeat failures go ...              1\n",
              "7738  subhanallah previous time offline suddenly com...              1\n",
              "7739  high school days time experience undesirable e...              1\n",
              "7740        really think anything everything take relax              0\n",
              "7741   fail enter college want make feel little depress              1\n",
              "7742  offline lecture meet lot people sometimes make...              1\n",
              "7743  work often get job exceed capacity work pile c...              1\n",
              "7744      many internal external problems come together              1\n",
              "7745  incidentally want career another field accord ...              1\n",
              "7746  past give mandate teach even though domain tea...              1\n",
              "7747          overthinking overwork overpressure lonely              1\n",
              "7748  ago enter college many variables happen life t...              0\n",
              "7749  depress tire talk talk make even depress depre...              1\n",
              "7750  life walk always feel grateful test enjoy god ...              0\n",
              "7751      like hang friends often exchange stories joke              0\n",
              "7752  supportive family environment pressure make fe...              0\n",
              "7753                                          like live              0\n",
              "7754          college felt pressure accept major choose              1\n",
              "7755  kbm online pandemic one time felt emptiness po...              1\n",
              "7756                                         worry much              1\n",
              "7757              person react things depress many ways              0\n",
              "7758  feel pressure work final project feel much hel...              1\n",
              "7759  relax person problem face much possible solve ...              0\n",
              "7760                                    happy play ball              0\n",
              "7761                                       never regret              0\n",
              "7762                        miss someone meet last week              0\n",
              "7763                                   house large yard              0\n",
              "7764                                math task difficult              1\n",
              "7765                                confess love accept              0\n",
              "7766    moment always remember get surprise th birthday              0\n",
              "7767  like play anyone game go beach hike vacation h...              0\n",
              "7768                                  life fun grateful              0\n",
              "7769                              always smile everyone              0\n",
              "7770  cheerful nature like entertain hang friends ma...              0"
            ],
            "text/html": [
              "\n",
              "  <div id=\"df-24161f2e-fa7d-40e9-a78a-e5ef92c34924\">\n",
              "    <div class=\"colab-df-container\">\n",
              "      <div>\n",
              "<style scoped>\n",
              "    .dataframe tbody tr th:only-of-type {\n",
              "        vertical-align: middle;\n",
              "    }\n",
              "\n",
              "    .dataframe tbody tr th {\n",
              "        vertical-align: top;\n",
              "    }\n",
              "\n",
              "    .dataframe thead th {\n",
              "        text-align: right;\n",
              "    }\n",
              "</style>\n",
              "<table border=\"1\" class=\"dataframe\">\n",
              "  <thead>\n",
              "    <tr style=\"text-align: right;\">\n",
              "      <th></th>\n",
              "      <th>clean_text</th>\n",
              "      <th>is_depression</th>\n",
              "    </tr>\n",
              "  </thead>\n",
              "  <tbody>\n",
              "    <tr>\n",
              "      <th>7731</th>\n",
              "      <td>personally rarely high expectations everything</td>\n",
              "      <td>0</td>\n",
              "    </tr>\n",
              "    <tr>\n",
              "      <th>7732</th>\n",
              "      <td>manage time well especially get enough sleep</td>\n",
              "      <td>0</td>\n",
              "    </tr>\n",
              "    <tr>\n",
              "      <th>7733</th>\n",
              "      <td>lose mother try enter university time felt con...</td>\n",
              "      <td>1</td>\n",
              "    </tr>\n",
              "    <tr>\n",
              "      <th>7734</th>\n",
              "      <td>sometimes get carry away problems face problem...</td>\n",
              "      <td>1</td>\n",
              "    </tr>\n",
              "    <tr>\n",
              "      <th>7735</th>\n",
              "      <td>sometimes lecture period assignments often giv...</td>\n",
              "      <td>1</td>\n",
              "    </tr>\n",
              "    <tr>\n",
              "      <th>7736</th>\n",
              "      <td>end june someone die leave devastate sad becom...</td>\n",
              "      <td>1</td>\n",
              "    </tr>\n",
              "    <tr>\n",
              "      <th>7737</th>\n",
              "      <td>time experience depression repeat failures go ...</td>\n",
              "      <td>1</td>\n",
              "    </tr>\n",
              "    <tr>\n",
              "      <th>7738</th>\n",
              "      <td>subhanallah previous time offline suddenly com...</td>\n",
              "      <td>1</td>\n",
              "    </tr>\n",
              "    <tr>\n",
              "      <th>7739</th>\n",
              "      <td>high school days time experience undesirable e...</td>\n",
              "      <td>1</td>\n",
              "    </tr>\n",
              "    <tr>\n",
              "      <th>7740</th>\n",
              "      <td>really think anything everything take relax</td>\n",
              "      <td>0</td>\n",
              "    </tr>\n",
              "    <tr>\n",
              "      <th>7741</th>\n",
              "      <td>fail enter college want make feel little depress</td>\n",
              "      <td>1</td>\n",
              "    </tr>\n",
              "    <tr>\n",
              "      <th>7742</th>\n",
              "      <td>offline lecture meet lot people sometimes make...</td>\n",
              "      <td>1</td>\n",
              "    </tr>\n",
              "    <tr>\n",
              "      <th>7743</th>\n",
              "      <td>work often get job exceed capacity work pile c...</td>\n",
              "      <td>1</td>\n",
              "    </tr>\n",
              "    <tr>\n",
              "      <th>7744</th>\n",
              "      <td>many internal external problems come together</td>\n",
              "      <td>1</td>\n",
              "    </tr>\n",
              "    <tr>\n",
              "      <th>7745</th>\n",
              "      <td>incidentally want career another field accord ...</td>\n",
              "      <td>1</td>\n",
              "    </tr>\n",
              "    <tr>\n",
              "      <th>7746</th>\n",
              "      <td>past give mandate teach even though domain tea...</td>\n",
              "      <td>1</td>\n",
              "    </tr>\n",
              "    <tr>\n",
              "      <th>7747</th>\n",
              "      <td>overthinking overwork overpressure lonely</td>\n",
              "      <td>1</td>\n",
              "    </tr>\n",
              "    <tr>\n",
              "      <th>7748</th>\n",
              "      <td>ago enter college many variables happen life t...</td>\n",
              "      <td>0</td>\n",
              "    </tr>\n",
              "    <tr>\n",
              "      <th>7749</th>\n",
              "      <td>depress tire talk talk make even depress depre...</td>\n",
              "      <td>1</td>\n",
              "    </tr>\n",
              "    <tr>\n",
              "      <th>7750</th>\n",
              "      <td>life walk always feel grateful test enjoy god ...</td>\n",
              "      <td>0</td>\n",
              "    </tr>\n",
              "    <tr>\n",
              "      <th>7751</th>\n",
              "      <td>like hang friends often exchange stories joke</td>\n",
              "      <td>0</td>\n",
              "    </tr>\n",
              "    <tr>\n",
              "      <th>7752</th>\n",
              "      <td>supportive family environment pressure make fe...</td>\n",
              "      <td>0</td>\n",
              "    </tr>\n",
              "    <tr>\n",
              "      <th>7753</th>\n",
              "      <td>like live</td>\n",
              "      <td>0</td>\n",
              "    </tr>\n",
              "    <tr>\n",
              "      <th>7754</th>\n",
              "      <td>college felt pressure accept major choose</td>\n",
              "      <td>1</td>\n",
              "    </tr>\n",
              "    <tr>\n",
              "      <th>7755</th>\n",
              "      <td>kbm online pandemic one time felt emptiness po...</td>\n",
              "      <td>1</td>\n",
              "    </tr>\n",
              "    <tr>\n",
              "      <th>7756</th>\n",
              "      <td>worry much</td>\n",
              "      <td>1</td>\n",
              "    </tr>\n",
              "    <tr>\n",
              "      <th>7757</th>\n",
              "      <td>person react things depress many ways</td>\n",
              "      <td>0</td>\n",
              "    </tr>\n",
              "    <tr>\n",
              "      <th>7758</th>\n",
              "      <td>feel pressure work final project feel much hel...</td>\n",
              "      <td>1</td>\n",
              "    </tr>\n",
              "    <tr>\n",
              "      <th>7759</th>\n",
              "      <td>relax person problem face much possible solve ...</td>\n",
              "      <td>0</td>\n",
              "    </tr>\n",
              "    <tr>\n",
              "      <th>7760</th>\n",
              "      <td>happy play ball</td>\n",
              "      <td>0</td>\n",
              "    </tr>\n",
              "    <tr>\n",
              "      <th>7761</th>\n",
              "      <td>never regret</td>\n",
              "      <td>0</td>\n",
              "    </tr>\n",
              "    <tr>\n",
              "      <th>7762</th>\n",
              "      <td>miss someone meet last week</td>\n",
              "      <td>0</td>\n",
              "    </tr>\n",
              "    <tr>\n",
              "      <th>7763</th>\n",
              "      <td>house large yard</td>\n",
              "      <td>0</td>\n",
              "    </tr>\n",
              "    <tr>\n",
              "      <th>7764</th>\n",
              "      <td>math task difficult</td>\n",
              "      <td>1</td>\n",
              "    </tr>\n",
              "    <tr>\n",
              "      <th>7765</th>\n",
              "      <td>confess love accept</td>\n",
              "      <td>0</td>\n",
              "    </tr>\n",
              "    <tr>\n",
              "      <th>7766</th>\n",
              "      <td>moment always remember get surprise th birthday</td>\n",
              "      <td>0</td>\n",
              "    </tr>\n",
              "    <tr>\n",
              "      <th>7767</th>\n",
              "      <td>like play anyone game go beach hike vacation h...</td>\n",
              "      <td>0</td>\n",
              "    </tr>\n",
              "    <tr>\n",
              "      <th>7768</th>\n",
              "      <td>life fun grateful</td>\n",
              "      <td>0</td>\n",
              "    </tr>\n",
              "    <tr>\n",
              "      <th>7769</th>\n",
              "      <td>always smile everyone</td>\n",
              "      <td>0</td>\n",
              "    </tr>\n",
              "    <tr>\n",
              "      <th>7770</th>\n",
              "      <td>cheerful nature like entertain hang friends ma...</td>\n",
              "      <td>0</td>\n",
              "    </tr>\n",
              "  </tbody>\n",
              "</table>\n",
              "</div>\n",
              "      <button class=\"colab-df-convert\" onclick=\"convertToInteractive('df-24161f2e-fa7d-40e9-a78a-e5ef92c34924')\"\n",
              "              title=\"Convert this dataframe to an interactive table.\"\n",
              "              style=\"display:none;\">\n",
              "        \n",
              "  <svg xmlns=\"http://www.w3.org/2000/svg\" height=\"24px\"viewBox=\"0 0 24 24\"\n",
              "       width=\"24px\">\n",
              "    <path d=\"M0 0h24v24H0V0z\" fill=\"none\"/>\n",
              "    <path d=\"M18.56 5.44l.94 2.06.94-2.06 2.06-.94-2.06-.94-.94-2.06-.94 2.06-2.06.94zm-11 1L8.5 8.5l.94-2.06 2.06-.94-2.06-.94L8.5 2.5l-.94 2.06-2.06.94zm10 10l.94 2.06.94-2.06 2.06-.94-2.06-.94-.94-2.06-.94 2.06-2.06.94z\"/><path d=\"M17.41 7.96l-1.37-1.37c-.4-.4-.92-.59-1.43-.59-.52 0-1.04.2-1.43.59L10.3 9.45l-7.72 7.72c-.78.78-.78 2.05 0 2.83L4 21.41c.39.39.9.59 1.41.59.51 0 1.02-.2 1.41-.59l7.78-7.78 2.81-2.81c.8-.78.8-2.07 0-2.86zM5.41 20L4 18.59l7.72-7.72 1.47 1.35L5.41 20z\"/>\n",
              "  </svg>\n",
              "      </button>\n",
              "      \n",
              "  <style>\n",
              "    .colab-df-container {\n",
              "      display:flex;\n",
              "      flex-wrap:wrap;\n",
              "      gap: 12px;\n",
              "    }\n",
              "\n",
              "    .colab-df-convert {\n",
              "      background-color: #E8F0FE;\n",
              "      border: none;\n",
              "      border-radius: 50%;\n",
              "      cursor: pointer;\n",
              "      display: none;\n",
              "      fill: #1967D2;\n",
              "      height: 32px;\n",
              "      padding: 0 0 0 0;\n",
              "      width: 32px;\n",
              "    }\n",
              "\n",
              "    .colab-df-convert:hover {\n",
              "      background-color: #E2EBFA;\n",
              "      box-shadow: 0px 1px 2px rgba(60, 64, 67, 0.3), 0px 1px 3px 1px rgba(60, 64, 67, 0.15);\n",
              "      fill: #174EA6;\n",
              "    }\n",
              "\n",
              "    [theme=dark] .colab-df-convert {\n",
              "      background-color: #3B4455;\n",
              "      fill: #D2E3FC;\n",
              "    }\n",
              "\n",
              "    [theme=dark] .colab-df-convert:hover {\n",
              "      background-color: #434B5C;\n",
              "      box-shadow: 0px 1px 3px 1px rgba(0, 0, 0, 0.15);\n",
              "      filter: drop-shadow(0px 1px 2px rgba(0, 0, 0, 0.3));\n",
              "      fill: #FFFFFF;\n",
              "    }\n",
              "  </style>\n",
              "\n",
              "      <script>\n",
              "        const buttonEl =\n",
              "          document.querySelector('#df-24161f2e-fa7d-40e9-a78a-e5ef92c34924 button.colab-df-convert');\n",
              "        buttonEl.style.display =\n",
              "          google.colab.kernel.accessAllowed ? 'block' : 'none';\n",
              "\n",
              "        async function convertToInteractive(key) {\n",
              "          const element = document.querySelector('#df-24161f2e-fa7d-40e9-a78a-e5ef92c34924');\n",
              "          const dataTable =\n",
              "            await google.colab.kernel.invokeFunction('convertToInteractive',\n",
              "                                                     [key], {});\n",
              "          if (!dataTable) return;\n",
              "\n",
              "          const docLinkHtml = 'Like what you see? Visit the ' +\n",
              "            '<a target=\"_blank\" href=https://colab.research.google.com/notebooks/data_table.ipynb>data table notebook</a>'\n",
              "            + ' to learn more about interactive tables.';\n",
              "          element.innerHTML = '';\n",
              "          dataTable['output_type'] = 'display_data';\n",
              "          await google.colab.output.renderOutput(dataTable, element);\n",
              "          const docLink = document.createElement('div');\n",
              "          docLink.innerHTML = docLinkHtml;\n",
              "          element.appendChild(docLink);\n",
              "        }\n",
              "      </script>\n",
              "    </div>\n",
              "  </div>\n",
              "  "
            ]
          },
          "metadata": {},
          "execution_count": 22
        }
      ]
    },
    {
      "cell_type": "code",
      "source": [
        "#train buat pengujian data kita\n",
        "X, X_form, y, y_form = train_test_split(embed_fixed, df.is_depression, shuffle=False, test_size=len(df_test))"
      ],
      "metadata": {
        "id": "G59kx5SVAJ1Q"
      },
      "execution_count": null,
      "outputs": []
    },
    {
      "cell_type": "code",
      "source": [
        "y_form"
      ],
      "metadata": {
        "colab": {
          "base_uri": "https://localhost:8080/"
        },
        "id": "Q4lSd9RxEZ1G",
        "outputId": "83a3cc3a-35ac-424e-bf1a-7f9813114ebb"
      },
      "execution_count": null,
      "outputs": [
        {
          "output_type": "execute_result",
          "data": {
            "text/plain": [
              "7731    0\n",
              "7732    0\n",
              "7733    1\n",
              "7734    1\n",
              "7735    1\n",
              "7736    1\n",
              "7737    1\n",
              "7738    1\n",
              "7739    1\n",
              "7740    0\n",
              "7741    1\n",
              "7742    1\n",
              "7743    1\n",
              "7744    1\n",
              "7745    1\n",
              "7746    1\n",
              "7747    1\n",
              "7748    0\n",
              "7749    1\n",
              "7750    0\n",
              "7751    0\n",
              "7752    0\n",
              "7753    0\n",
              "7754    1\n",
              "7755    1\n",
              "7756    1\n",
              "7757    0\n",
              "7758    1\n",
              "7759    0\n",
              "7760    0\n",
              "7761    0\n",
              "7762    0\n",
              "7763    0\n",
              "7764    1\n",
              "7765    0\n",
              "7766    0\n",
              "7767    0\n",
              "7768    0\n",
              "7769    0\n",
              "7770    0\n",
              "Name: is_depression, dtype: int64"
            ]
          },
          "metadata": {},
          "execution_count": 24
        }
      ]
    },
    {
      "cell_type": "code",
      "source": [
        "y"
      ],
      "metadata": {
        "colab": {
          "base_uri": "https://localhost:8080/"
        },
        "id": "XG3d7xWQBRjV",
        "outputId": "7f763d55-904e-4758-887a-96c805256ca7"
      },
      "execution_count": null,
      "outputs": [
        {
          "output_type": "execute_result",
          "data": {
            "text/plain": [
              "0       1\n",
              "1       1\n",
              "2       1\n",
              "3       1\n",
              "4       1\n",
              "       ..\n",
              "7726    0\n",
              "7727    0\n",
              "7728    0\n",
              "7729    0\n",
              "7730    0\n",
              "Name: is_depression, Length: 7731, dtype: int64"
            ]
          },
          "metadata": {},
          "execution_count": 25
        }
      ]
    },
    {
      "cell_type": "code",
      "source": [
        "X_train, X_test, y_train, y_test = train_test_split(X, y, test_size=0.3, random_state=1)"
      ],
      "metadata": {
        "id": "v-IrQLN4Cq3c"
      },
      "execution_count": null,
      "outputs": []
    },
    {
      "cell_type": "code",
      "source": [
        "SVM1.fit(X_train, y_train)"
      ],
      "metadata": {
        "id": "xlJOJ2M2DWEq",
        "colab": {
          "base_uri": "https://localhost:8080/"
        },
        "outputId": "90ead5d4-4e16-422a-9447-bf326d725a24"
      },
      "execution_count": null,
      "outputs": [
        {
          "output_type": "execute_result",
          "data": {
            "text/plain": [
              "SVC()"
            ]
          },
          "metadata": {},
          "execution_count": 27
        }
      ]
    },
    {
      "cell_type": "code",
      "source": [
        "SVM1.score(X_test, y_test)"
      ],
      "metadata": {
        "colab": {
          "base_uri": "https://localhost:8080/"
        },
        "id": "Bwhrsc5YDbOO",
        "outputId": "47700451-7d35-483c-8ed2-3bce944cb27a"
      },
      "execution_count": null,
      "outputs": [
        {
          "output_type": "execute_result",
          "data": {
            "text/plain": [
              "0.9508620689655173"
            ]
          },
          "metadata": {},
          "execution_count": 28
        }
      ]
    },
    {
      "cell_type": "code",
      "source": [
        "from sklearn.model_selection import cross_val_score\n",
        "scoress = cross_val_score(SVM1, X_test, y_test, cv=5)"
      ],
      "metadata": {
        "id": "Q_gSHn_MbW9b"
      },
      "execution_count": null,
      "outputs": []
    },
    {
      "cell_type": "code",
      "source": [
        "scoress.mean()"
      ],
      "metadata": {
        "colab": {
          "base_uri": "https://localhost:8080/"
        },
        "id": "ZH7f7gGMcTZP",
        "outputId": "bdfd937c-4732-480f-9c6b-090145e66acf"
      },
      "execution_count": null,
      "outputs": [
        {
          "output_type": "execute_result",
          "data": {
            "text/plain": [
              "0.9413793103448276"
            ]
          },
          "metadata": {},
          "execution_count": 30
        }
      ]
    },
    {
      "cell_type": "code",
      "source": [
        "SVM1.score(X_form, y_form)"
      ],
      "metadata": {
        "colab": {
          "base_uri": "https://localhost:8080/"
        },
        "id": "azWHBASsEpZt",
        "outputId": "105b0f9a-c52b-488e-fa96-dff9c539b3ff"
      },
      "execution_count": null,
      "outputs": [
        {
          "output_type": "execute_result",
          "data": {
            "text/plain": [
              "0.8"
            ]
          },
          "metadata": {},
          "execution_count": 31
        }
      ]
    },
    {
      "cell_type": "code",
      "source": [
        "import matplotlib.pyplot as plt"
      ],
      "metadata": {
        "id": "9Th5ME2ztNeF"
      },
      "execution_count": null,
      "outputs": []
    },
    {
      "cell_type": "code",
      "source": [
        "from sklearn.metrics import plot_confusion_matrix\n",
        "plot_confusion_matrix(SVM1, X_form, y_form, cmap=plt.cm.Blues)  \n",
        "plt.show()"
      ],
      "metadata": {
        "colab": {
          "base_uri": "https://localhost:8080/",
          "height": 334
        },
        "id": "8XIeF5_Ns-Xs",
        "outputId": "06a0076f-e428-4bc8-ca7d-6a90719574d6"
      },
      "execution_count": null,
      "outputs": [
        {
          "output_type": "stream",
          "name": "stderr",
          "text": [
            "/usr/local/lib/python3.7/dist-packages/sklearn/utils/deprecation.py:87: FutureWarning: Function plot_confusion_matrix is deprecated; Function `plot_confusion_matrix` is deprecated in 1.0 and will be removed in 1.2. Use one of the class methods: ConfusionMatrixDisplay.from_predictions or ConfusionMatrixDisplay.from_estimator.\n",
            "  warnings.warn(msg, category=FutureWarning)\n"
          ]
        },
        {
          "output_type": "display_data",
          "data": {
            "text/plain": [
              "<Figure size 432x288 with 2 Axes>"
            ],
            "image/png": "[encoded data removed]"
          },
          "metadata": {
            "needs_background": "light"
          }
        }
      ]
    },
    {
      "cell_type": "code",
      "source": [
        "ypred_test = SVM1.predict(X_form)"
      ],
      "metadata": {
        "id": "yo5IN9WkCGCC"
      },
      "execution_count": null,
      "outputs": []
    },
    {
      "cell_type": "code",
      "source": [
        "from sklearn.metrics import f1_score\n",
        "from sklearn.metrics import precision_score\n",
        "from sklearn.metrics import recall_score\n",
        "from sklearn.metrics import accuracy_score"
      ],
      "metadata": {
        "id": "tFTMtgqjTVAb"
      },
      "execution_count": null,
      "outputs": []
    },
    {
      "cell_type": "code",
      "source": [
        "from sklearn.metrics import confusion_matrix\n",
        "from sklearn.metrics import classification_report\n",
        "print(classification_report(y_form, ypred_test))\n",
        "print(confusion_matrix(y_form, ypred_test))"
      ],
      "metadata": {
        "colab": {
          "base_uri": "https://localhost:8080/"
        },
        "id": "KJ4E6UaUEGPR",
        "outputId": "4dee3801-d826-4b58-ab75-4a72cf6fa6ae"
      },
      "execution_count": null,
      "outputs": [
        {
          "output_type": "stream",
          "name": "stdout",
          "text": [
            "              precision    recall  f1-score   support\n",
            "\n",
            "           0       0.73      0.95      0.83        20\n",
            "           1       0.93      0.65      0.76        20\n",
            "\n",
            "    accuracy                           0.80        40\n",
            "   macro avg       0.83      0.80      0.80        40\n",
            "weighted avg       0.83      0.80      0.80        40\n",
            "\n",
            "[[19  1]\n",
            " [ 7 13]]\n"
          ]
        }
      ]
    },
    {
      "cell_type": "code",
      "source": [
        "svm_prec = \"{:.2f}\".format(precision_score(y_form, ypred_test, average='macro'))\n",
        "svm_rec = \"{:.2f}\".format(recall_score(y_form, ypred_test, average='macro'))\n",
        "svm_f1 = \"{:.2f}\".format(f1_score(y_form, ypred_test, average='macro'))\n",
        "\n",
        "print(svm_prec)\n",
        "print(svm_rec)\n",
        "print(svm_f1)"
      ],
      "metadata": {
        "colab": {
          "base_uri": "https://localhost:8080/"
        },
        "id": "SdiPE-EzS1rD",
        "outputId": "e2d6bdfa-2853-4346-ab84-9a051c137ee9"
      },
      "execution_count": null,
      "outputs": [
        {
          "output_type": "stream",
          "name": "stdout",
          "text": [
            "0.83\n",
            "0.80\n",
            "0.80\n"
          ]
        }
      ]
    },
    {
      "cell_type": "code",
      "source": [
        "svm_acc = \"{:.2f}\".format(accuracy_score(y_form, ypred_test))\n",
        "svm_acc"
      ],
      "metadata": {
        "colab": {
          "base_uri": "https://localhost:8080/",
          "height": 36
        },
        "id": "i4ti-6gocSJQ",
        "outputId": "ccc9d117-c972-420f-eb1f-435c54987e7f"
      },
      "execution_count": null,
      "outputs": [
        {
          "output_type": "execute_result",
          "data": {
            "text/plain": [
              "'0.80'"
            ],
            "application/vnd.google.colaboratory.intrinsic+json": {
              "type": "string"
            }
          },
          "metadata": {},
          "execution_count": 40
        }
      ]
    },
    {
      "cell_type": "markdown",
      "source": [
        "# Membandingkan algoritma"
      ],
      "metadata": {
        "id": "bnZcobnm_fNF"
      }
    },
    {
      "cell_type": "markdown",
      "source": [
        "**naive bayes algorithm**"
      ],
      "metadata": {
        "id": "BbYHA8x5-VgP"
      }
    },
    {
      "cell_type": "code",
      "source": [
        "from sklearn.naive_bayes import GaussianNB"
      ],
      "metadata": {
        "id": "jmH1jWnQ-a1L"
      },
      "execution_count": null,
      "outputs": []
    },
    {
      "cell_type": "code",
      "source": [
        "NB = GaussianNB()"
      ],
      "metadata": {
        "id": "m0oNAG95-fwm"
      },
      "execution_count": null,
      "outputs": []
    },
    {
      "cell_type": "code",
      "source": [
        "nb_train = NB.fit(X_train, y_train)"
      ],
      "metadata": {
        "id": "IYOupZ0G-j4I"
      },
      "execution_count": null,
      "outputs": []
    },
    {
      "cell_type": "code",
      "source": [
        "nb_train.score(X_test, y_test)"
      ],
      "metadata": {
        "colab": {
          "base_uri": "https://localhost:8080/"
        },
        "id": "2b0fLSRP-t1X",
        "outputId": "cc02f08f-27a8-490a-8bb6-2bc825209112"
      },
      "execution_count": null,
      "outputs": [
        {
          "output_type": "execute_result",
          "data": {
            "text/plain": [
              "0.853448275862069"
            ]
          },
          "metadata": {},
          "execution_count": 44
        }
      ]
    },
    {
      "cell_type": "code",
      "source": [
        "nb_train.score(X_form, y_form)"
      ],
      "metadata": {
        "colab": {
          "base_uri": "https://localhost:8080/"
        },
        "id": "hUjZEVDx-2lX",
        "outputId": "de2d3e75-7273-44a2-d781-ae9ea74ec161"
      },
      "execution_count": null,
      "outputs": [
        {
          "output_type": "execute_result",
          "data": {
            "text/plain": [
              "0.675"
            ]
          },
          "metadata": {},
          "execution_count": 45
        }
      ]
    },
    {
      "cell_type": "code",
      "source": [
        "ypred_nb = nb_train.predict(X_form)"
      ],
      "metadata": {
        "id": "I1DGKYvvgMX0"
      },
      "execution_count": null,
      "outputs": []
    },
    {
      "cell_type": "code",
      "source": [
        "from sklearn.metrics import confusion_matrix\n",
        "from sklearn.metrics import classification_report\n",
        "print(classification_report(y_form, ypred_nb))\n",
        "print(confusion_matrix(y_form, ypred_nb))"
      ],
      "metadata": {
        "colab": {
          "base_uri": "https://localhost:8080/"
        },
        "id": "zuOvBwv8gV1T",
        "outputId": "2f5b5060-cbb4-4b01-faad-d249a954af62"
      },
      "execution_count": null,
      "outputs": [
        {
          "output_type": "stream",
          "name": "stdout",
          "text": [
            "              precision    recall  f1-score   support\n",
            "\n",
            "           0       0.71      0.60      0.65        20\n",
            "           1       0.65      0.75      0.70        20\n",
            "\n",
            "    accuracy                           0.68        40\n",
            "   macro avg       0.68      0.68      0.67        40\n",
            "weighted avg       0.68      0.68      0.67        40\n",
            "\n",
            "[[12  8]\n",
            " [ 5 15]]\n"
          ]
        }
      ]
    },
    {
      "cell_type": "code",
      "source": [
        "nb_prec = \"{:.2f}\".format(precision_score(y_form, ypred_nb, average='macro'))\n",
        "nb_rec = \"{:.2f}\".format(recall_score(y_form, ypred_nb, average='macro'))\n",
        "nb_f1 = \"{:.2f}\".format(f1_score(y_form, ypred_nb, average='macro'))\n",
        "\n",
        "print(nb_prec)\n",
        "print(nb_rec)\n",
        "print(nb_f1)"
      ],
      "metadata": {
        "colab": {
          "base_uri": "https://localhost:8080/"
        },
        "id": "8oQRZlFmUqOj",
        "outputId": "dc09639b-3db5-4d72-b02b-db98dbc01686"
      },
      "execution_count": null,
      "outputs": [
        {
          "output_type": "stream",
          "name": "stdout",
          "text": [
            "0.68\n",
            "0.68\n",
            "0.67\n"
          ]
        }
      ]
    },
    {
      "cell_type": "code",
      "source": [
        "nb_acc = \"{:.2f}\".format(accuracy_score(y_form, ypred_nb))\n",
        "nb_acc"
      ],
      "metadata": {
        "colab": {
          "base_uri": "https://localhost:8080/",
          "height": 36
        },
        "id": "JGupSiv6ccvs",
        "outputId": "61220aa7-110e-42a5-b0ed-f961b2ccb406"
      },
      "execution_count": null,
      "outputs": [
        {
          "output_type": "execute_result",
          "data": {
            "text/plain": [
              "'0.68'"
            ],
            "application/vnd.google.colaboratory.intrinsic+json": {
              "type": "string"
            }
          },
          "metadata": {},
          "execution_count": 49
        }
      ]
    },
    {
      "cell_type": "markdown",
      "source": [
        "**random forest classifier**"
      ],
      "metadata": {
        "id": "IhJi0KRB-6gr"
      }
    },
    {
      "cell_type": "code",
      "source": [
        "from sklearn.ensemble import RandomForestClassifier"
      ],
      "metadata": {
        "id": "3Gw6TyqG-9Yz"
      },
      "execution_count": null,
      "outputs": []
    },
    {
      "cell_type": "code",
      "source": [
        "rf = RandomForestClassifier()"
      ],
      "metadata": {
        "id": "u4Tn6o_C_Sxs"
      },
      "execution_count": null,
      "outputs": []
    },
    {
      "cell_type": "code",
      "source": [
        "rf_train = rf.fit(X_train, y_train)"
      ],
      "metadata": {
        "id": "jE7_rNNb_WLn"
      },
      "execution_count": null,
      "outputs": []
    },
    {
      "cell_type": "code",
      "source": [
        "rf_train.score(X_train, y_train)"
      ],
      "metadata": {
        "colab": {
          "base_uri": "https://localhost:8080/"
        },
        "id": "nyZRJRQH_ayi",
        "outputId": "969a96db-fb85-40ad-e852-8fcc10583871"
      },
      "execution_count": null,
      "outputs": [
        {
          "output_type": "execute_result",
          "data": {
            "text/plain": [
              "0.9998151912770282"
            ]
          },
          "metadata": {},
          "execution_count": 53
        }
      ]
    },
    {
      "cell_type": "code",
      "source": [
        "rf_train.score(X_form, y_form)"
      ],
      "metadata": {
        "colab": {
          "base_uri": "https://localhost:8080/"
        },
        "id": "suLPE90u_7na",
        "outputId": "40aaebd6-e056-4a10-9ef9-a10c7e540eea"
      },
      "execution_count": null,
      "outputs": [
        {
          "output_type": "execute_result",
          "data": {
            "text/plain": [
              "0.7"
            ]
          },
          "metadata": {},
          "execution_count": 54
        }
      ]
    },
    {
      "cell_type": "code",
      "source": [
        "ypred_rf = rf_train.predict(X_form)"
      ],
      "metadata": {
        "id": "ATelECJrgb9N"
      },
      "execution_count": null,
      "outputs": []
    },
    {
      "cell_type": "code",
      "source": [
        "from sklearn.metrics import confusion_matrix\n",
        "from sklearn.metrics import classification_report\n",
        "print(classification_report(y_form, ypred_rf))\n",
        "print(confusion_matrix(y_form, ypred_rf))"
      ],
      "metadata": {
        "colab": {
          "base_uri": "https://localhost:8080/"
        },
        "id": "WE3ox7Mkgjtp",
        "outputId": "91c93a6f-435c-4308-945e-0bce5f5d9af7"
      },
      "execution_count": null,
      "outputs": [
        {
          "output_type": "stream",
          "name": "stdout",
          "text": [
            "              precision    recall  f1-score   support\n",
            "\n",
            "           0       0.64      0.90      0.75        20\n",
            "           1       0.83      0.50      0.62        20\n",
            "\n",
            "    accuracy                           0.70        40\n",
            "   macro avg       0.74      0.70      0.69        40\n",
            "weighted avg       0.74      0.70      0.69        40\n",
            "\n",
            "[[18  2]\n",
            " [10 10]]\n"
          ]
        }
      ]
    },
    {
      "cell_type": "code",
      "source": [
        "rf_prec = \"{:.2f}\".format(precision_score(y_form, ypred_rf, average='macro'))\n",
        "rf_rec = \"{:.2f}\".format(recall_score(y_form, ypred_rf, average='macro'))\n",
        "rf_f1 = \"{:.2f}\".format(f1_score(y_form, ypred_rf, average='macro'))\n",
        "\n",
        "print(rf_prec)\n",
        "print(rf_rec)\n",
        "print(rf_f1)"
      ],
      "metadata": {
        "colab": {
          "base_uri": "https://localhost:8080/"
        },
        "id": "e1sBTAFRU0W6",
        "outputId": "3b994438-2bce-469d-f0f4-a00275766c72"
      },
      "execution_count": null,
      "outputs": [
        {
          "output_type": "stream",
          "name": "stdout",
          "text": [
            "0.74\n",
            "0.70\n",
            "0.69\n"
          ]
        }
      ]
    },
    {
      "cell_type": "code",
      "source": [
        "rf_acc = \"{:.2f}\".format(accuracy_score(y_form, ypred_rf))\n",
        "rf_acc"
      ],
      "metadata": {
        "colab": {
          "base_uri": "https://localhost:8080/",
          "height": 36
        },
        "id": "Pg6MsexQchkf",
        "outputId": "3ae2941b-2418-47e0-826d-1a9b7451f368"
      },
      "execution_count": null,
      "outputs": [
        {
          "output_type": "execute_result",
          "data": {
            "text/plain": [
              "'0.70'"
            ],
            "application/vnd.google.colaboratory.intrinsic+json": {
              "type": "string"
            }
          },
          "metadata": {},
          "execution_count": 58
        }
      ]
    },
    {
      "cell_type": "markdown",
      "source": [
        "**knn**"
      ],
      "metadata": {
        "id": "PiPBcFH2aapV"
      }
    },
    {
      "cell_type": "code",
      "source": [
        "from sklearn.neighbors import KNeighborsClassifier"
      ],
      "metadata": {
        "id": "Zel5k8rZacT2"
      },
      "execution_count": null,
      "outputs": []
    },
    {
      "cell_type": "code",
      "source": [
        "knn = KNeighborsClassifier()"
      ],
      "metadata": {
        "id": "Zk0Qz2AeamoI"
      },
      "execution_count": null,
      "outputs": []
    },
    {
      "cell_type": "code",
      "source": [
        "knn_train = knn.fit(X_train, y_train)"
      ],
      "metadata": {
        "id": "95Qslo4Uap0B"
      },
      "execution_count": null,
      "outputs": []
    },
    {
      "cell_type": "code",
      "source": [
        "knn_train.score(X_train, y_train)"
      ],
      "metadata": {
        "colab": {
          "base_uri": "https://localhost:8080/"
        },
        "id": "F7oKPDGeatuw",
        "outputId": "cf5e0aab-f9da-42b6-d540-eecd6e30f994"
      },
      "execution_count": null,
      "outputs": [
        {
          "output_type": "execute_result",
          "data": {
            "text/plain": [
              "0.8273886527444095"
            ]
          },
          "metadata": {},
          "execution_count": 62
        }
      ]
    },
    {
      "cell_type": "code",
      "source": [
        "knn_train.score(X_form, y_form)"
      ],
      "metadata": {
        "id": "p3kXwOakg4ST",
        "outputId": "5bb761a5-ccc6-4acb-8355-b961ada5e007",
        "colab": {
          "base_uri": "https://localhost:8080/"
        }
      },
      "execution_count": null,
      "outputs": [
        {
          "output_type": "execute_result",
          "data": {
            "text/plain": [
              "0.475"
            ]
          },
          "metadata": {},
          "execution_count": 63
        }
      ]
    },
    {
      "cell_type": "code",
      "source": [
        "ypred_knn = knn_train.predict(X_form)"
      ],
      "metadata": {
        "id": "jZygUlP2go_3"
      },
      "execution_count": null,
      "outputs": []
    },
    {
      "cell_type": "code",
      "source": [
        "from sklearn.metrics import confusion_matrix\n",
        "from sklearn.metrics import classification_report\n",
        "print(classification_report(y_form, ypred_knn))\n",
        "print(confusion_matrix(y_form, ypred_knn))"
      ],
      "metadata": {
        "colab": {
          "base_uri": "https://localhost:8080/"
        },
        "id": "gexhwtbNgvEM",
        "outputId": "8a79940f-3817-4ce6-efdc-fc2d8d4b917c"
      },
      "execution_count": null,
      "outputs": [
        {
          "output_type": "stream",
          "name": "stdout",
          "text": [
            "              precision    recall  f1-score   support\n",
            "\n",
            "           0       0.49      0.85      0.62        20\n",
            "           1       0.40      0.10      0.16        20\n",
            "\n",
            "    accuracy                           0.48        40\n",
            "   macro avg       0.44      0.47      0.39        40\n",
            "weighted avg       0.44      0.47      0.39        40\n",
            "\n",
            "[[17  3]\n",
            " [18  2]]\n"
          ]
        }
      ]
    },
    {
      "cell_type": "code",
      "source": [
        "knn_prec = \"{:.2f}\".format(precision_score(y_form, ypred_knn, average='macro'))\n",
        "knn_rec = \"{:.2f}\".format(recall_score(y_form, ypred_knn, average='macro'))\n",
        "knn_f1 = \"{:.2f}\".format(f1_score(y_form, ypred_knn, average='macro'))\n",
        "\n",
        "print(knn_prec)\n",
        "print(knn_rec)\n",
        "print(knn_f1)"
      ],
      "metadata": {
        "colab": {
          "base_uri": "https://localhost:8080/"
        },
        "id": "bYS5HDnaU8In",
        "outputId": "22d9d9b4-9041-417c-afaf-7c21801692bd"
      },
      "execution_count": null,
      "outputs": [
        {
          "output_type": "stream",
          "name": "stdout",
          "text": [
            "0.44\n",
            "0.47\n",
            "0.39\n"
          ]
        }
      ]
    },
    {
      "cell_type": "code",
      "source": [
        "knn_acc = \"{:.2f}\".format(accuracy_score(y_form, ypred_knn))\n",
        "knn_acc"
      ],
      "metadata": {
        "colab": {
          "base_uri": "https://localhost:8080/",
          "height": 36
        },
        "id": "wNiZM6kIcqLp",
        "outputId": "e09830ef-e85c-478c-f091-0af3f374a673"
      },
      "execution_count": null,
      "outputs": [
        {
          "output_type": "execute_result",
          "data": {
            "text/plain": [
              "'0.47'"
            ],
            "application/vnd.google.colaboratory.intrinsic+json": {
              "type": "string"
            }
          },
          "metadata": {},
          "execution_count": 67
        }
      ]
    },
    {
      "cell_type": "code",
      "source": [
        "# importing package\n",
        "import pandas as pd\n",
        "\n",
        "# create data\n",
        "data_barplot = pd.DataFrame([['SVM', svm_prec, svm_rec, svm_f1], ['NB', nb_prec, nb_rec, nb_f1], ['RF', rf_prec, rf_rec, rf_f1],\n",
        "\t\t\t\t['KNN', knn_prec, knn_rec, knn_f1]],\n",
        "\t\t\t\tcolumns=['Model', 'Precision', 'Recall', 'F1-score'])\n",
        "data_barplot['Precision'] = data_barplot['Precision'].astype(float)\n",
        "data_barplot['Recall'] = data_barplot['Recall'].astype(float)\n",
        "data_barplot['F1-score'] = data_barplot['F1-score'].astype(float)\n",
        "# plot grouped bar chart\n",
        "data_barplot.plot(x='Model',\n",
        "\t\tkind='bar',\n",
        "\t\tstacked=False,\n",
        "\t\ttitle='Grafik Analisis Model')\n"
      ],
      "metadata": {
        "colab": {
          "base_uri": "https://localhost:8080/",
          "height": 341
        },
        "id": "HW-79iUUW0NY",
        "outputId": "d3ac67c0-c6b7-4634-df22-3331c28fda97"
      },
      "execution_count": null,
      "outputs": [
        {
          "output_type": "execute_result",
          "data": {
            "text/plain": [
              "<matplotlib.axes._subplots.AxesSubplot at 0x7fd5f1a90f90>"
            ]
          },
          "metadata": {},
          "execution_count": 94
        },
        {
          "output_type": "display_data",
          "data": {
            "text/plain": [
              "<Figure size 432x288 with 1 Axes>"
            ],
            "image/png": "[encoded data removed]"
          },
          "metadata": {
            "needs_background": "light"
          }
        }
      ]
    },
    {
      "cell_type": "code",
      "source": [
        "acc_plot = pd.DataFrame([['SVM', svm_acc], ['NB', nb_acc], ['RF', rf_acc],\n",
        "\t\t\t\t['KNN', knn_acc]],\n",
        "\t\t\t\tcolumns=['Model', 'Akurasi'])"
      ],
      "metadata": {
        "id": "BP9nnVNJb6e9"
      },
      "execution_count": null,
      "outputs": []
    },
    {
      "cell_type": "code",
      "source": [
        "acc_plot['Akurasi'] = acc_plot['Akurasi'].astype(float)"
      ],
      "metadata": {
        "id": "xPwmACiHc9f1"
      },
      "execution_count": null,
      "outputs": []
    },
    {
      "cell_type": "code",
      "source": [
        "acc_plot.plot(x='Model',\n",
        "\t\tkind='bar',\n",
        "\t\tstacked=False,\n",
        "\t\ttitle='Grafik Analisis Model')"
      ],
      "metadata": {
        "colab": {
          "base_uri": "https://localhost:8080/",
          "height": 324
        },
        "id": "hQwOImkMdIr3",
        "outputId": "3aacea2e-90e1-4ad5-980c-ea4c4e46e25b"
      },
      "execution_count": null,
      "outputs": [
        {
          "output_type": "execute_result",
          "data": {
            "text/plain": [
              "<matplotlib.axes._subplots.AxesSubplot at 0x7fd5f3050f50>"
            ]
          },
          "metadata": {},
          "execution_count": 71
        },
        {
          "output_type": "display_data",
          "data": {
            "text/plain": [
              "<Figure size 432x288 with 1 Axes>"
            ],
            "image/png": "[encoded data removed]"
          },
          "metadata": {
            "needs_background": "light"
          }
        }
      ]
    },
    {
      "cell_type": "code",
      "source": [
        "font = {'family' : 'normal',\n",
        "        'weight' : 'normal',\n",
        "        'size'   : 14}\n",
        "\n",
        "plt.rc('font', **font)"
      ],
      "metadata": {
        "id": "v09dSc65u2C4"
      },
      "execution_count": null,
      "outputs": []
    },
    {
      "cell_type": "code",
      "source": [
        "barlist = plt.bar(acc_plot['Model'], acc_plot['Akurasi'])\n",
        "plt.title('Grafik Analisis Akurasi')\n",
        "plt.xlabel('Model')\n",
        "plt.ylabel('Akurasi')\n",
        "plt.show()"
      ],
      "metadata": {
        "colab": {
          "base_uri": "https://localhost:8080/",
          "height": 307
        },
        "id": "EHD1wG2MekgO",
        "outputId": "879597df-a23b-4628-9b36-237c23edb827"
      },
      "execution_count": null,
      "outputs": [
        {
          "output_type": "display_data",
          "data": {
            "text/plain": [
              "<Figure size 432x288 with 1 Axes>"
            ],
            "image/png": "[encoded data removed]"
          },
          "metadata": {
            "needs_background": "light"
          }
        }
      ]
    }
  ],
  "metadata": {
    "colab": {
      "provenance": []
    },
    "kernelspec": {
      "display_name": "Python 3",
      "name": "python3"
    },
    "language_info": {
      "name": "python"
    },
    "gpuClass": "standard"
  },
  "nbformat": 4,
  "nbformat_minor": 0
}